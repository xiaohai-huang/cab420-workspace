{
 "cells": [
  {
   "cell_type": "markdown",
   "metadata": {},
   "source": [
    "# CAB420, Dimension Reduction, Example 3: Linear Discriminant Analysis (LDA)\n",
    "Dr Simon Denman (s.denman@qut.edu.au)\n",
    "\n",
    "## Overview\n",
    "Having seen how great PCA is, let's break it. And then make everything better again through Linear Discriminant Analysis. \n",
    "\n",
    "## Too Long; Didn't Read\n",
    "The main take home points from this example are:\n",
    "* Depending on our task, PCA may not be a good choice. It preserves the total varaince of the data, but this is not necessarily the bit that helps us tell different types of things apart\n",
    "* LDA kind-of does similar things to PCA - it also computes eigenvalues and eigenvectors, but this time it does so from the ratio of these things called **scatter matrices**. We have two types of scatter matrix:\n",
    "    * The **within class** scatter matrix captures how each dimension changes within the same class\n",
    "    * The **between class** scatter matrix captues how they change between classes.\n",
    "* Ideally, we want our within class scatter as small as possible (points from the same class are tightly bunched) and our between class scatter as big as possible (points from different classes are far away)\n",
    "* LDA seeks to do this by computing the eigenvalues and vectors on the ratio of these scatter matrices (within/between)\n",
    "* By tranforming data using LDA, we can find a transform that gives a good low dimensional separation of the classes. Like PCA we can project into this space. Projecting back out of the space to reconstruct the data does not really make sense and doesn't work that well, so this is really a one-way transform."
   ]
  },
  {
   "cell_type": "code",
   "execution_count": 1,
   "metadata": {},
   "outputs": [],
   "source": [
    "import numpy\n",
    "from sklearn import decomposition\n",
    "import matplotlib.pyplot as plt"
   ]
  },
  {
   "cell_type": "markdown",
   "metadata": {},
   "source": [
    "## More Made up Data\n",
    "We're going to create a dataset that's intended to break PCA. It looks pretty mundane, but this will ruin things for us.\n",
    "\n",
    "This time we're also going to have two classes, and it's the setup of these that will give us grief. Ideally, we'd obviously like to keep our classes separate, and from the plot below we can see that we have a nice big gap between our classes. What could go wrong?"
   ]
  },
  {
   "cell_type": "code",
   "execution_count": 2,
   "metadata": {},
   "outputs": [
    {
     "data": {
      "image/png": "[encoded data removed]",
      "text/plain": [
       "<Figure size 432x288 with 1 Axes>"
      ]
     },
     "metadata": {
      "needs_background": "light"
     },
     "output_type": "display_data"
    }
   ],
   "source": [
    "X = numpy.array([[2, 3], [3, 4], [4, 5], [5, 6], [5, 7], [2, 1], [3, 2], [4, 2], [4, 3], [6, 4], [7, 6]])\n",
    "c = numpy.array([1,  1,  1,  1,  1,  2,  2,  2,  2,  2,  2])\n",
    "\n",
    "fig = plt.figure()\n",
    "ax = fig.add_subplot(1, 1, 1)\n",
    "ax.scatter(X[:,0], X[:,1], c=c);"
   ]
  },
  {
   "cell_type": "markdown",
   "metadata": {},
   "source": [
    "## Breaking PCA\n",
    "Now let's do our PCA."
   ]
  },
  {
   "cell_type": "code",
   "execution_count": 3,
   "metadata": {},
   "outputs": [
    {
     "name": "stdout",
     "output_type": "stream",
     "text": [
      "[0.85471369 0.14528631]\n"
     ]
    }
   ],
   "source": [
    "pca = decomposition.PCA()\n",
    "pca.fit(X)\n",
    "transformed = pca.transform(X)\n",
    "print(pca.explained_variance_ratio_)"
   ]
  },
  {
   "cell_type": "markdown",
   "metadata": {},
   "source": [
    "Most of the variation is in the first dimension, so let's reduce our data to a single dimension."
   ]
  },
  {
   "cell_type": "code",
   "execution_count": 4,
   "metadata": {},
   "outputs": [
    {
     "name": "stdout",
     "output_type": "stream",
     "text": [
      "Reconstructed:\n",
      "[[3.73842482 3.44234505]\n",
      " [4.58253002 4.56007607]\n",
      " [5.42663522 5.67780709]\n",
      " [5.90755333 6.31462   ]\n",
      " [1.9324834  1.05098821]\n",
      " [2.7765886  2.16871923]\n",
      " [3.13977569 2.64963734]\n",
      " [3.6206938  3.28645025]\n",
      " [4.82798609 4.88509938]]\n",
      "\n",
      "Actual:\n",
      "[[3 4]\n",
      " [4 5]\n",
      " [5 6]\n",
      " [5 7]\n",
      " [2 1]\n",
      " [3 2]\n",
      " [4 2]\n",
      " [4 3]\n",
      " [6 4]]\n",
      "\n",
      "Error: 0.408243\n"
     ]
    }
   ],
   "source": [
    "reduced_1 = numpy.reshape(transformed[:,0], (-1, 1))\n",
    "reconstructed_1 = reduced_1.dot(numpy.reshape(pca.components_[0,:], (-1, 1)).transpose()) + pca.mean_\n",
    "print('Reconstructed:')\n",
    "print(reconstructed_1[1:10,:])\n",
    "print('\\nActual:')\n",
    "print(X[1:10,:])\n",
    "print('\\nError: %f' % (numpy.square(X - reconstructed_1)).mean(axis=None))"
   ]
  },
  {
   "cell_type": "markdown",
   "metadata": {},
   "source": [
    "Our reconstructions look ok, it all seems fairly close."
   ]
  },
  {
   "cell_type": "code",
   "execution_count": 5,
   "metadata": {},
   "outputs": [
    {
     "data": {
      "image/png": "[encoded data removed]",
      "text/plain": [
       "<Figure size 432x288 with 1 Axes>"
      ]
     },
     "metadata": {
      "needs_background": "light"
     },
     "output_type": "display_data"
    }
   ],
   "source": [
    "fig = plt.figure()\n",
    "ax = fig.add_subplot(1, 1, 1)\n",
    "ax.scatter(reconstructed_1[:,0], reconstructed_1[:,1], c=c);"
   ]
  },
  {
   "cell_type": "markdown",
   "metadata": {},
   "source": [
    "But from the plot, we can see we have a problem.\n",
    "\n",
    "Any boundary we had between our classes has vanished. Oddly enough though, if we projected using the second principal component things go a bit different."
   ]
  },
  {
   "cell_type": "code",
   "execution_count": 6,
   "metadata": {},
   "outputs": [
    {
     "data": {
      "image/png": "[encoded data removed]",
      "text/plain": [
       "<Figure size 432x288 with 1 Axes>"
      ]
     },
     "metadata": {
      "needs_background": "light"
     },
     "output_type": "display_data"
    }
   ],
   "source": [
    "reduced_1 = numpy.reshape(transformed[:,1], (-1, 1))\n",
    "reconstructed_1 = reduced_1.dot(numpy.reshape(pca.components_[1,:], (-1, 1)).transpose()) + pca.mean_\n",
    "fig = plt.figure()\n",
    "ax = fig.add_subplot(1, 1, 1)\n",
    "ax.scatter(reconstructed_1[:,0], reconstructed_1[:,1], c=c);"
   ]
  },
  {
   "cell_type": "markdown",
   "metadata": {},
   "source": [
    "We keep our data well separated. This is despite this dimension only containing 15% of the variation. The bottom line is: the dimensions with high variation are not necessarily those that separate classes."
   ]
  },
  {
   "cell_type": "markdown",
   "metadata": {},
   "source": [
    "## Scatter Matricies\n",
    "LDA uses scatter matricies. Let's have a play with them before we go too far. As noted, we have two scatter matrices, the within class:\n",
    "\n",
    "$S_w = \\sum_{i=1}^{n}(x_i-\\mu_{y_i})(x_i-\\mu_{y_i})^T$\n",
    "\n",
    "and the between class:\n",
    "\n",
    "$S_b=\\sum_{k=1}^mn_k(\\mu_k-\\mu)(\\mu_k-\\mu)^T$\n",
    "\n",
    "We'll create some new toy data to play with this. Our first example, we'll have three really tight and well separated clusters."
   ]
  },
  {
   "cell_type": "code",
   "execution_count": 7,
   "metadata": {},
   "outputs": [
    {
     "data": {
      "image/png": "[encoded data removed]",
      "text/plain": [
       "<Figure size 432x288 with 1 Axes>"
      ]
     },
     "metadata": {
      "needs_background": "light"
     },
     "output_type": "display_data"
    }
   ],
   "source": [
    "numpy.random.seed(4)\n",
    "X = numpy.concatenate((numpy.random.uniform(size=(5,2))*0.1, numpy.random.uniform(size=(5,2))*0.1 + 5, numpy.random.uniform(size=(5,2))*0.1 + 10))\n",
    "c = numpy.array([0,0,0,0,0,1,1,1,1,1,2,2,2,2,2])\n",
    "fig = plt.figure()\n",
    "ax = fig.add_subplot(1, 1, 1)\n",
    "ax.scatter(X[:,0], X[:,1], c=c);"
   ]
  },
  {
   "cell_type": "code",
   "execution_count": 8,
   "metadata": {},
   "outputs": [],
   "source": [
    "mu_total = numpy.mean(X, axis=0)\n",
    "c0 = X[c==0, :]\n",
    "c1 = X[c==1, :]\n",
    "c2 = X[c==2, :]\n",
    "mu = numpy.array([numpy.mean(c0, axis=0), numpy.mean(c1, axis=0), numpy.mean(c2, axis=0)])\n",
    "nk,_ = numpy.histogram(c, 3)\n",
    "nk = nk.reshape((3,1))"
   ]
  },
  {
   "cell_type": "code",
   "execution_count": 9,
   "metadata": {},
   "outputs": [
    {
     "name": "stdout",
     "output_type": "stream",
     "text": [
      "[[0.01331477 0.0015448 ]\n",
      " [0.0015448  0.01423041]]\n"
     ]
    }
   ],
   "source": [
    "Sw = ((X - mu[c,:]).transpose()).dot((X - mu[c,:]))\n",
    "print(Sw)"
   ]
  },
  {
   "cell_type": "code",
   "execution_count": 10,
   "metadata": {},
   "outputs": [
    {
     "name": "stdout",
     "output_type": "stream",
     "text": [
      "[[248.86709419 249.70285217]\n",
      " [249.70285217 250.54892153]]\n"
     ]
    }
   ],
   "source": [
    "Sb = numpy.multiply(nk, (numpy.ones((3,1))*mu_total - mu)).transpose().dot((numpy.ones((3,1))*mu_total - mu))\n",
    "print(Sb)"
   ]
  },
  {
   "cell_type": "markdown",
   "metadata": {},
   "source": [
    "What we see is:\n",
    "* within class scatter is very small, i.e. within a single class, points are tightly grouped\n",
    "* between class scatter is very big, i.e. classes themselves are well seprated\n",
    "\n",
    "Let's make things a little less well separated and see what happens."
   ]
  },
  {
   "cell_type": "code",
   "execution_count": 11,
   "metadata": {},
   "outputs": [
    {
     "data": {
      "image/png": "[encoded data removed]",
      "text/plain": [
       "<Figure size 432x288 with 1 Axes>"
      ]
     },
     "metadata": {
      "needs_background": "light"
     },
     "output_type": "display_data"
    }
   ],
   "source": [
    "X = numpy.concatenate((numpy.random.uniform(size=(5,2)), numpy.random.uniform(size=(5,2)) + 5, numpy.random.uniform(size=(5,2)) + 10))\n",
    "c = numpy.array([0,0,0,0,0,1,1,1,1,1,2,2,2,2,2])\n",
    "fig = plt.figure()\n",
    "ax = fig.add_subplot(1, 1, 1)\n",
    "ax.scatter(X[:,0], X[:,1], c=c);"
   ]
  },
  {
   "cell_type": "code",
   "execution_count": 12,
   "metadata": {},
   "outputs": [],
   "source": [
    "mu_total = numpy.mean(X, axis=0)\n",
    "c0 = X[c==0, :]\n",
    "c1 = X[c==1, :]\n",
    "c2 = X[c==2, :]\n",
    "mu = numpy.array([numpy.mean(c0, axis=0), numpy.mean(c1, axis=0), numpy.mean(c2, axis=0)])\n",
    "nk,_ = numpy.histogram(c, 3)\n",
    "nk = nk.reshape((3,1))"
   ]
  },
  {
   "cell_type": "code",
   "execution_count": 13,
   "metadata": {},
   "outputs": [
    {
     "name": "stdout",
     "output_type": "stream",
     "text": [
      "[[ 0.35319307 -0.03366045]\n",
      " [-0.03366045  0.59361245]]\n"
     ]
    }
   ],
   "source": [
    "Sw = ((X - mu[c,:]).transpose()).dot((X - mu[c,:]))\n",
    "print(Sw)"
   ]
  },
  {
   "cell_type": "code",
   "execution_count": 14,
   "metadata": {},
   "outputs": [
    {
     "name": "stdout",
     "output_type": "stream",
     "text": [
      "[[266.73188433 251.55160505]\n",
      " [251.55160505 237.23710806]]\n"
     ]
    }
   ],
   "source": [
    "Sb = numpy.multiply(nk, (numpy.ones((3,1))*mu_total - mu)).transpose().dot((numpy.ones((3,1))*mu_total - mu))\n",
    "print(Sb)"
   ]
  },
  {
   "cell_type": "markdown",
   "metadata": {},
   "source": [
    "Our within class scatter matrix is now showing our classes aren't as tightly grouped as they were before, but our between class still indicates that classes are well separated, which they are.\n",
    "\n",
    "Let's go straight to the far extreme, and have clusters that totally overlap."
   ]
  },
  {
   "cell_type": "code",
   "execution_count": 15,
   "metadata": {},
   "outputs": [
    {
     "data": {
      "image/png": "[encoded data removed]",
      "text/plain": [
       "<Figure size 432x288 with 1 Axes>"
      ]
     },
     "metadata": {
      "needs_background": "light"
     },
     "output_type": "display_data"
    }
   ],
   "source": [
    "X = numpy.concatenate((numpy.random.uniform(size=(5,2)), numpy.random.uniform(size=(5,2)), numpy.random.uniform(size=(5,2))))\n",
    "c = numpy.array([0,0,0,0,0,1,1,1,1,1,2,2,2,2,2])\n",
    "fig = plt.figure()\n",
    "ax = fig.add_subplot(1, 1, 1)\n",
    "ax.scatter(X[:,0], X[:,1], c=c);"
   ]
  },
  {
   "cell_type": "code",
   "execution_count": 16,
   "metadata": {},
   "outputs": [],
   "source": [
    "mu_total = numpy.mean(X, axis=0)\n",
    "c0 = X[c==0, :]\n",
    "c1 = X[c==1, :]\n",
    "c2 = X[c==2, :]\n",
    "mu = numpy.array([numpy.mean(c0, axis=0), numpy.mean(c1, axis=0), numpy.mean(c2, axis=0)])\n",
    "nk,_ = numpy.histogram(c, 3)\n",
    "nk = nk.reshape((3,1))"
   ]
  },
  {
   "cell_type": "code",
   "execution_count": 17,
   "metadata": {},
   "outputs": [
    {
     "name": "stdout",
     "output_type": "stream",
     "text": [
      "[[0.74859984 0.41766819]\n",
      " [0.41766819 0.89271018]]\n"
     ]
    }
   ],
   "source": [
    "Sw = ((X - mu[c,:]).transpose()).dot((X - mu[c,:]))\n",
    "print(Sw)"
   ]
  },
  {
   "cell_type": "code",
   "execution_count": 18,
   "metadata": {},
   "outputs": [
    {
     "name": "stdout",
     "output_type": "stream",
     "text": [
      "[[ 0.22332289 -0.19700407]\n",
      " [-0.19700407  0.17936888]]\n"
     ]
    }
   ],
   "source": [
    "Sb = numpy.multiply(nk, (numpy.ones((3,1))*mu_total - mu)).transpose().dot((numpy.ones((3,1))*mu_total - mu))\n",
    "print(Sb)"
   ]
  },
  {
   "cell_type": "markdown",
   "metadata": {},
   "source": [
    "What we see now is we have high within class scatter (i.e. lots of variation within a class), and low between class scatter (i.e. all of our classes are on top of each other)."
   ]
  },
  {
   "cell_type": "markdown",
   "metadata": {},
   "source": [
    "## Linear Discriminant Analysis\n",
    "We want to ensure that we maintain the discriminative power of the data, though to do this, we need class labels. PCA is an unsupervised dimension reduction method, LDA is a supervised method. It achieves it's goal by minimising within-class scatter while maximising between class scatter, this means:\n",
    "* Keep points in the same class close together\n",
    "* Keep points in different classes far away\n",
    "\n",
    "To do this we calcualte the eigenvectors of the ratio of within class scatter to between class scatter."
   ]
  },
  {
   "cell_type": "code",
   "execution_count": 19,
   "metadata": {},
   "outputs": [
    {
     "data": {
      "image/png": "[encoded data removed]",
      "text/plain": [
       "<Figure size 432x288 with 1 Axes>"
      ]
     },
     "metadata": {
      "needs_background": "light"
     },
     "output_type": "display_data"
    }
   ],
   "source": [
    "X = numpy.array([[2, 3], [3, 4], [4, 5], [5, 6], [5, 7], [2, 1], [3, 2], [4, 2], [4, 3], [6, 4], [7, 6]])\n",
    "c = numpy.array([0,  0,  0,  0,  0,  1,  1,  1,  1,  1,  1])\n",
    "fig = plt.figure()\n",
    "ax = fig.add_subplot(1, 1, 1)\n",
    "ax.scatter(X[:,0], X[:,1], c=c);\n",
    "mu_total = numpy.mean(X, axis=0)\n",
    "c0 = X[c==0, :]\n",
    "c1 = X[c==1, :]\n",
    "mu = numpy.array([numpy.mean(c0, axis=0), numpy.mean(c1, axis=0)])\n",
    "nk,_ = numpy.histogram(c, 2)\n",
    "nk = nk.reshape((2,1))"
   ]
  },
  {
   "cell_type": "markdown",
   "metadata": {},
   "source": [
    "Get the within class scatter:\n",
    "\n",
    "$S_w = \\sum_{i=1}^{n}(x_i-\\mu_{y_i})(x_i-\\mu_{y_i})^T$"
   ]
  },
  {
   "cell_type": "code",
   "execution_count": 20,
   "metadata": {},
   "outputs": [
    {
     "name": "stdout",
     "output_type": "stream",
     "text": [
      "[[24.13333333 24.        ]\n",
      " [24.         26.        ]]\n"
     ]
    }
   ],
   "source": [
    "Sw = ((X - mu[c,:]).transpose()).dot((X - mu[c,:]))\n",
    "print(Sw)"
   ]
  },
  {
   "cell_type": "markdown",
   "metadata": {},
   "source": [
    "Get the between class scatter:\n",
    "\n",
    "$S_b=\\sum_{k=1}^mn_k(\\mu_k-\\mu)(\\mu_k-\\mu)^T$"
   ]
  },
  {
   "cell_type": "code",
   "execution_count": 21,
   "metadata": {},
   "outputs": [
    {
     "name": "stdout",
     "output_type": "stream",
     "text": [
      "[[ 0.77575758 -2.90909091]\n",
      " [-2.90909091 10.90909091]]\n"
     ]
    }
   ],
   "source": [
    "Sb = numpy.multiply(nk, (numpy.ones((2,1))*mu_total - mu)).transpose().dot((numpy.ones((2,1))*mu_total - mu))\n",
    "print(Sb)"
   ]
  },
  {
   "cell_type": "markdown",
   "metadata": {},
   "source": [
    "We want to maximise the ratio between the between and within class scatter matricies, i.e.:\n",
    "\n",
    "$\\hat{\\bf{w}}= \\underset{w}{argmax}\\frac{\\bf{w^T}S_b\\bf{w}}{\\bf{w^T}S_w\\bf{w}}$\n",
    "\n",
    "We can do this via Eigen decomposition. "
   ]
  },
  {
   "cell_type": "code",
   "execution_count": 22,
   "metadata": {},
   "outputs": [
    {
     "name": "stdout",
     "output_type": "stream",
     "text": [
      "[0.         8.22044277]\n",
      "[[-0.96623494  0.71169327]\n",
      " [-0.25766265 -0.70249034]]\n"
     ]
    }
   ],
   "source": [
    "eigval, eigvec = numpy.linalg.eig(numpy.linalg.inv(Sw).dot(Sb))\n",
    "print(eigval)\n",
    "print(eigvec)"
   ]
  },
  {
   "cell_type": "markdown",
   "metadata": {},
   "source": [
    "We'll get our eigenvectors into order too. Note that by default numpy's sort will do things in ascending order, so we'll flip that to get descending."
   ]
  },
  {
   "cell_type": "code",
   "execution_count": 23,
   "metadata": {},
   "outputs": [
    {
     "name": "stdout",
     "output_type": "stream",
     "text": [
      "[1 0]\n"
     ]
    }
   ],
   "source": [
    "sorted_idx = numpy.flip(numpy.argsort(eigval))\n",
    "print(sorted_idx)"
   ]
  },
  {
   "cell_type": "markdown",
   "metadata": {},
   "source": [
    "Let's now project our data into our new space. We'll use just the first component."
   ]
  },
  {
   "cell_type": "code",
   "execution_count": 24,
   "metadata": {},
   "outputs": [
    {
     "data": {
      "image/png": "[encoded data removed]",
      "text/plain": [
       "<Figure size 432x288 with 1 Axes>"
      ]
     },
     "metadata": {
      "needs_background": "light"
     },
     "output_type": "display_data"
    }
   ],
   "source": [
    "Xm = X - mu_total;\n",
    "z = Xm.dot(eigvec[:, sorted_idx[0]])\n",
    "fig = plt.figure()\n",
    "ax = fig.add_subplot(1, 1, 1)\n",
    "ax.scatter(z, z, c=c);"
   ]
  },
  {
   "cell_type": "markdown",
   "metadata": {},
   "source": [
    "We can see that we get much better separation between the classes. \n",
    "\n",
    "It's worth noting here that while we do get two dimensions back, our second one has an eigenvalue of 0, indicating that it contains no information. While we could project our data into two dimensions using LDA, there is no value in doing so. LDA will only ever give us $C-1$ meaningful dimensions back, where $C$ is the number of classes in our data. In our case, this is 2, so we can only get 1 meaningful dimension. \n",
    "\n",
    "Finally, we need to starte that we cannot reconstruct our original data like we can with PCA."
   ]
  },
  {
   "cell_type": "code",
   "execution_count": null,
   "metadata": {},
   "outputs": [],
   "source": []
  }
 ],
 "metadata": {
  "interpreter": {
   "hash": "12328a4b23be1c7cec08b06706c715be0163e3764006085465cbbe8cea75b2e4"
  },
  "kernelspec": {
   "display_name": "Python 3.9.5 ('cab420-env')",
   "language": "python",
   "name": "python3"
  },
  "language_info": {
   "codemirror_mode": {
    "name": "ipython",
    "version": 3
   },
   "file_extension": ".py",
   "mimetype": "text/x-python",
   "name": "python",
   "nbconvert_exporter": "python",
   "pygments_lexer": "ipython3",
   "version": "3.9.5"
  }
 },
 "nbformat": 4,
 "nbformat_minor": 4
}
