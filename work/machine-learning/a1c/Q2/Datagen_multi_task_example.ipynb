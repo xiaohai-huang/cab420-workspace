{
 "cells": [
  {
   "cell_type": "markdown",
   "metadata": {},
   "source": [
    "# CAB420: Data Generators for Multi-Task Models\n",
    "Ethan Goan, Dr Simon Denman (s.denman@qut.edu.au)\n",
    "\n",
    "## Overview \n",
    "\n",
    "This is a quick demo on how to make a data generator that includes image augmentation for a multi output model, and may be of used for Q2 of assignment 1C.\n",
    "\n",
    "### Note\n",
    "\n",
    "The network we are making doesn't do anything usefull. It has two tasks, but they are both operating on the same data labels, so what it's really doing is the same thing twice. However, this does provide an example of how you can use augmentation in a multi-task model."
   ]
  },
  {
   "cell_type": "code",
   "execution_count": 1,
   "metadata": {
    "collapsed": false,
    "jupyter": {
     "outputs_hidden": false
    }
   },
   "outputs": [],
   "source": [
    "import numpy as np\n",
    "\n",
    "import tensorflow as tf\n",
    "from tensorflow import keras\n",
    "from tensorflow.keras import layers\n",
    "from tensorflow.keras import activations\n",
    "from tensorflow.keras.preprocessing.image import ImageDataGenerator\n",
    "import matplotlib.pyplot as plt\n",
    "from sklearn.metrics import accuracy_score"
   ]
  },
  {
   "cell_type": "markdown",
   "metadata": {},
   "source": [
    "## Data\n",
    "\n",
    "We'll just use Fashion MNIST, and we'll remove most of the samples too as we're using augmentation."
   ]
  },
  {
   "cell_type": "code",
   "execution_count": 2,
   "metadata": {
    "collapsed": false,
    "jupyter": {
     "outputs_hidden": false
    }
   },
   "outputs": [
    {
     "name": "stdout",
     "output_type": "stream",
     "text": [
      "(3000, 28, 28, 1)\n",
      "(3000, 1)\n"
     ]
    }
   ],
   "source": [
    "(x_train, y_train), (x_test, y_test) = keras.datasets.fashion_mnist.load_data()\n",
    "x_train = x_train.reshape(x_train.shape[0], 28, 28, 1).astype('float32') / 255.0\n",
    "y_train = y_train.reshape(y_train.shape[0], 1)\n",
    "x_test = x_test.reshape(x_test.shape[0], 28, 28, 1).astype('float32') / 255.0\n",
    "y_test = y_test.reshape(y_test.shape[0], 1)\n",
    "\n",
    "# remove 95% of the data, just take every 20th element\n",
    "x_train = x_train[1::20, :, :, :]\n",
    "print(np.shape(x_train))\n",
    "y_train = y_train[1::20, :]\n",
    "print(np.shape(y_train))"
   ]
  },
  {
   "cell_type": "markdown",
   "metadata": {},
   "source": [
    "## Creating a Data Generator\n",
    "\n",
    "We need to create a custom generator for the sequence, which will allow us to output to augmented data and the multiple ground trth labels. \n",
    "\n",
    "This has largely been taken from https://stanford.edu/~shervine/blog/keras-how-to-generate-data-on-the-fly\n",
    "\n",
    "If you wish to adapt this, the `__init__` and `__data_generation` methods are the most critical."
   ]
  },
  {
   "cell_type": "code",
   "execution_count": 3,
   "metadata": {
    "collapsed": false,
    "jupyter": {
     "outputs_hidden": false
    }
   },
   "outputs": [],
   "source": [
    "# Class for the data generator\n",
    "class DataGenerator(keras.utils.Sequence):\n",
    "    'Generates data for Keras'\n",
    "    \n",
    "    # Input arguments are as follows:\n",
    "    #  x:            our X data array that we'll augment\n",
    "    #  y_one:        y labels for the first output\n",
    "    #  y_two:        y labels for the second ouput\n",
    "    #  data_aug:     our data augmentor\n",
    "    #  batch_size:   the batch size to return from the generator\n",
    "    #  dim:          size of images\n",
    "    #  n_channels:   number of image channels\n",
    "    #  shuffle:      flag to indicate if we should shuffle the data at the end of the epoch\n",
    "    def __init__(self, x, y_one, y_two, data_aug,                 \n",
    "                 batch_size=32, dim=(28,28), n_channels=1,\n",
    "                 shuffle=True):\n",
    "        'Initialization'\n",
    "        self.dim = dim\n",
    "        self.batch_size = batch_size\n",
    "        self.x = x\n",
    "        self.y_one = y_one\n",
    "        self.y_two = y_two\n",
    "        self.data_aug = data_aug\n",
    "        self.list_IDs = np.arange(0, self.x.shape[0])\n",
    "        self.n_channels = n_channels\n",
    "        self.shuffle = shuffle\n",
    "        self.on_epoch_end()\n",
    "\n",
    "    def __len__(self):\n",
    "        'Denotes the number of batches per epoch'\n",
    "        return int(np.floor(len(self.list_IDs) / self.batch_size))\n",
    "\n",
    "    def __getitem__(self, index):\n",
    "        'Generate one batch of data'\n",
    "        # Generate indexes of the batch\n",
    "        indexes = self.indexes[index*self.batch_size:(index+1)*self.batch_size]\n",
    "\n",
    "        # Find list of IDs\n",
    "        list_IDs_temp = [self.list_IDs[k] for k in indexes]\n",
    "\n",
    "        # Generate data\n",
    "        X, y = self.__data_generation(list_IDs_temp)\n",
    "\n",
    "        return X, y\n",
    "\n",
    "    def on_epoch_end(self):\n",
    "        'Updates indexes after each epoch'\n",
    "        self.indexes = np.arange(len(self.list_IDs))\n",
    "        if self.shuffle == True:\n",
    "            np.random.shuffle(self.indexes)\n",
    "            \n",
    "\n",
    "    # Function to generate data. This will take in a list of sample indicies, and then for each\n",
    "    # these apply augmentation, and return the augmented data and labels\n",
    "    #\n",
    "    # If you wish to check the mechanics out in more detail, you can uncomment the two print lines\n",
    "    # which will show you the IDs that are being manipulated and help show what's going on - however\n",
    "    # this will also generate a lot of output text during model training.\n",
    "    #\n",
    "    def __data_generation(self, list_IDs_temp):\n",
    "        'Generates data containing batch_size samples' # X : (n_samples, *dim, n_channels)\n",
    "        # Initialization - creating space for X and y data\n",
    "#        print(list_IDs_temp)\n",
    "        X = np.empty((self.batch_size, *self.dim, self.n_channels))\n",
    "        # creating a list of empty arrays to hold our data labels. \n",
    "        # would initialise this for the number of output labels we have\n",
    "        y = [np.empty((self.batch_size), dtype=int),\n",
    "             np.empty((self.batch_size), dtype=int)]\n",
    "\n",
    "        # Generate data, loop through the list of IDs we have and generate data for each in turn\n",
    "        for i, ID in enumerate(list_IDs_temp):\n",
    "#            print(ID)\n",
    "            # apply random transformation based of our datagen instance\n",
    "            X[i,] = self.data_aug.random_transform(self.x[ID,])\n",
    "            # copy our y labels across\n",
    "            y[0][i,] = self.y_one[ID]\n",
    "            y[1][i,] = self.y_two[ID]\n",
    "        return X, y"
   ]
  },
  {
   "cell_type": "markdown",
   "metadata": {},
   "source": [
    "### Data Augmentation\n",
    "\n",
    "We can use Keras' existing data augmentor here. We'll deliberately create some fairly wild and extreme augmentation parameters. These parameters are really not suitable, but as a demo it makes it really obvious that augmentation is happening. Just be warned: **we do not recommend that you copy these augmentation parameters**."
   ]
  },
  {
   "cell_type": "code",
   "execution_count": 4,
   "metadata": {
    "collapsed": false,
    "jupyter": {
     "outputs_hidden": false
    }
   },
   "outputs": [],
   "source": [
    "# creating image aug with some really wild and extreme augmentation params\n",
    "# Ad noted above: these params are not suitable, just used to demo it in practice\n",
    "data_aug = ImageDataGenerator(\n",
    "                            # rotate between -45, +45 degrees\n",
    "                            rotation_range=45,\n",
    "                            # horiziontal shift by +/- 50% of the image width\n",
    "                            width_shift_range=0.5,\n",
    "                            # vertical shift by +/- 50% of the image width\n",
    "                            height_shift_range=0.5,\n",
    "                            # range for randomly applying a shearing transform\n",
    "                            shear_range=0.5,\n",
    "                            # range for zooming\n",
    "                            zoom_range=0.5,\n",
    "                            # allow horizontal flips of data\n",
    "                            horizontal_flip=True,\n",
    "                            # what value to place in new pixels, given the nature of our data (clothes on a black backround)\n",
    "                            # we'll set this to a constant value of 0\n",
    "                            fill_mode='constant', cval=0)\n"
   ]
  },
  {
   "cell_type": "markdown",
   "metadata": {},
   "source": [
    "### Putting it Together\n",
    "\n",
    "We'll create and test our generator now. Things to note:\n",
    "* the augmentation object we created above is passed into Data Generator class\n",
    "* we just pass y_train twice, for the two y variables"
   ]
  },
  {
   "cell_type": "code",
   "execution_count": 5,
   "metadata": {
    "collapsed": false,
    "jupyter": {
     "outputs_hidden": false
    }
   },
   "outputs": [],
   "source": [
    "# create generator for our dataset\n",
    "datagen = DataGenerator(x_train, y_train, y_train, data_aug, batch_size=16)"
   ]
  },
  {
   "cell_type": "code",
   "execution_count": 6,
   "metadata": {
    "collapsed": false,
    "jupyter": {
     "outputs_hidden": false
    }
   },
   "outputs": [
    {
     "data": {
      "image/png": "[encoded data removed]",
      "text/plain": [
       "<Figure size 576x720 with 16 Axes>"
      ]
     },
     "metadata": {
      "needs_background": "light"
     },
     "output_type": "display_data"
    }
   ],
   "source": [
    "# lets just test how it works\n",
    "# will just get a random batch from here (just pick the first one)\n",
    "x_, y_ = datagen[1]\n",
    "fig = plt.figure(figsize=[8, 10])\n",
    "for i in range(0, 16):\n",
    "    ax = fig.add_subplot(4, 4, i + 1)\n",
    "    ax.imshow(x_[i, :,:,0])"
   ]
  },
  {
   "cell_type": "markdown",
   "metadata": {},
   "source": [
    "As expected, our augmentation is a little extreme. \n",
    "\n",
    "We'll now confirm that we have two y outptus, i.e. two set of layers. In our case this should return the same set of labels twice."
   ]
  },
  {
   "cell_type": "code",
   "execution_count": 7,
   "metadata": {
    "collapsed": false,
    "jupyter": {
     "outputs_hidden": false
    }
   },
   "outputs": [
    {
     "name": "stdout",
     "output_type": "stream",
     "text": [
      "[array([2, 3, 2, 6, 4, 1, 9, 1, 9, 4, 3, 0, 2, 8, 8, 3]), array([2, 3, 2, 6, 4, 1, 9, 1, 9, 4, 3, 0, 2, 8, 8, 3])]\n"
     ]
    }
   ],
   "source": [
    "print(y_)"
   ]
  },
  {
   "cell_type": "markdown",
   "metadata": {},
   "source": [
    "## Using the DataGenerator in Model Training\n",
    "\n",
    "We'll now train a simple model. This will be a very simple model, using a similar architecture to the second lecture example from week 10. Critically, it will have two outputs, but both outputs will be doing the same task. \n",
    "\n",
    "Again this isn't a demo of a proper model or multi-task learning. Is just here to demo that the image gen is working properly with multiple outputs."
   ]
  },
  {
   "cell_type": "code",
   "execution_count": 8,
   "metadata": {
    "collapsed": false,
    "jupyter": {
     "outputs_hidden": false
    }
   },
   "outputs": [
    {
     "name": "stdout",
     "output_type": "stream",
     "text": [
      "Model: \"fmnist_dummy_model\"\n",
      "__________________________________________________________________________________________________\n",
      " Layer (type)                   Output Shape         Param #     Connected to                     \n",
      "==================================================================================================\n",
      " img (InputLayer)               [(None, 28, 28, 1)]  0           []                               \n",
      "                                                                                                  \n",
      " conv2d (Conv2D)                (None, 26, 26, 8)    80          ['img[0][0]']                    \n",
      "                                                                                                  \n",
      " max_pooling2d (MaxPooling2D)   (None, 13, 13, 8)    0           ['conv2d[0][0]']                 \n",
      "                                                                                                  \n",
      " conv2d_1 (Conv2D)              (None, 11, 11, 16)   1168        ['max_pooling2d[0][0]']          \n",
      "                                                                                                  \n",
      " max_pooling2d_1 (MaxPooling2D)  (None, 5, 5, 16)    0           ['conv2d_1[0][0]']               \n",
      "                                                                                                  \n",
      " conv2d_2 (Conv2D)              (None, 3, 3, 32)     4640        ['max_pooling2d_1[0][0]']        \n",
      "                                                                                                  \n",
      " flatten (Flatten)              (None, 288)          0           ['conv2d_2[0][0]']               \n",
      "                                                                                                  \n",
      " dense (Dense)                  (None, 64)           18496       ['flatten[0][0]']                \n",
      "                                                                                                  \n",
      " dense_1 (Dense)                (None, 64)           18496       ['flatten[0][0]']                \n",
      "                                                                                                  \n",
      " output1 (Dense)                (None, 10)           650         ['dense[0][0]']                  \n",
      "                                                                                                  \n",
      " output2 (Dense)                (None, 10)           650         ['dense_1[0][0]']                \n",
      "                                                                                                  \n",
      "==================================================================================================\n",
      "Total params: 44,180\n",
      "Trainable params: 44,180\n",
      "Non-trainable params: 0\n",
      "__________________________________________________________________________________________________\n"
     ]
    },
    {
     "name": "stderr",
     "output_type": "stream",
     "text": [
      "2022-05-30 13:45:57.725521: I tensorflow/stream_executor/cuda/cuda_gpu_executor.cc:936] successful NUMA node read from SysFS had negative value (-1), but there must be at least one NUMA node, so returning NUMA node zero\n",
      "2022-05-30 13:45:57.730168: I tensorflow/stream_executor/cuda/cuda_gpu_executor.cc:936] successful NUMA node read from SysFS had negative value (-1), but there must be at least one NUMA node, so returning NUMA node zero\n",
      "2022-05-30 13:45:57.730329: I tensorflow/stream_executor/cuda/cuda_gpu_executor.cc:936] successful NUMA node read from SysFS had negative value (-1), but there must be at least one NUMA node, so returning NUMA node zero\n",
      "2022-05-30 13:45:57.730891: I tensorflow/core/platform/cpu_feature_guard.cc:151] This TensorFlow binary is optimized with oneAPI Deep Neural Network Library (oneDNN) to use the following CPU instructions in performance-critical operations:  AVX2 FMA\n",
      "To enable them in other operations, rebuild TensorFlow with the appropriate compiler flags.\n",
      "2022-05-30 13:45:57.731772: I tensorflow/stream_executor/cuda/cuda_gpu_executor.cc:936] successful NUMA node read from SysFS had negative value (-1), but there must be at least one NUMA node, so returning NUMA node zero\n",
      "2022-05-30 13:45:57.731950: I tensorflow/stream_executor/cuda/cuda_gpu_executor.cc:936] successful NUMA node read from SysFS had negative value (-1), but there must be at least one NUMA node, so returning NUMA node zero\n",
      "2022-05-30 13:45:57.732103: I tensorflow/stream_executor/cuda/cuda_gpu_executor.cc:936] successful NUMA node read from SysFS had negative value (-1), but there must be at least one NUMA node, so returning NUMA node zero\n",
      "2022-05-30 13:45:58.095184: I tensorflow/stream_executor/cuda/cuda_gpu_executor.cc:936] successful NUMA node read from SysFS had negative value (-1), but there must be at least one NUMA node, so returning NUMA node zero\n",
      "2022-05-30 13:45:58.095363: I tensorflow/stream_executor/cuda/cuda_gpu_executor.cc:936] successful NUMA node read from SysFS had negative value (-1), but there must be at least one NUMA node, so returning NUMA node zero\n",
      "2022-05-30 13:45:58.095494: I tensorflow/stream_executor/cuda/cuda_gpu_executor.cc:936] successful NUMA node read from SysFS had negative value (-1), but there must be at least one NUMA node, so returning NUMA node zero\n",
      "2022-05-30 13:45:58.095611: I tensorflow/core/common_runtime/gpu/gpu_device.cc:1525] Created device /job:localhost/replica:0/task:0/device:GPU:0 with 6569 MB memory:  -> device: 0, name: NVIDIA GeForce RTX 2080, pci bus id: 0000:01:00.0, compute capability: 7.5\n"
     ]
    }
   ],
   "source": [
    "inputs = keras.Input(shape=(28, 28, 1, ), name='img')\n",
    "x = layers.Conv2D(filters=8, kernel_size=(3,3), activation='relu')(inputs)\n",
    "x = layers.MaxPool2D(pool_size=(2, 2))(x)\n",
    "x = layers.Conv2D(filters=16, kernel_size=(3,3), activation='relu')(x)\n",
    "x = layers.MaxPool2D(pool_size=(2, 2))(x)\n",
    "x = layers.Conv2D(filters=32, kernel_size=(3,3), activation='relu')(x)\n",
    "x = layers.Flatten()(x)\n",
    "x1 = layers.Dense(64, activation='relu')(x)\n",
    "output_1 = layers.Dense(10, name='output1')(x1)\n",
    "x2 = layers.Dense(64, activation='relu')(x)\n",
    "output_2 = layers.Dense(10, name='output2')(x2)\n",
    "\n",
    "model_cnn = keras.Model(inputs=inputs, outputs=[output_1, output_2], name='fmnist_dummy_model')\n",
    "model_cnn.summary()"
   ]
  },
  {
   "cell_type": "markdown",
   "metadata": {},
   "source": [
    "The key aprt now is that we pass to `fit` our data generator we created above, `datagen`.\n",
    "\n",
    "Note that the validation data is not from a generator, but is the regular test set (with y_test duplicated for the two outputs."
   ]
  },
  {
   "cell_type": "code",
   "execution_count": 9,
   "metadata": {
    "collapsed": false,
    "jupyter": {
     "outputs_hidden": false
    }
   },
   "outputs": [
    {
     "name": "stdout",
     "output_type": "stream",
     "text": [
      "Epoch 1/10\n"
     ]
    },
    {
     "name": "stderr",
     "output_type": "stream",
     "text": [
      "2022-05-30 13:45:59.059963: I tensorflow/stream_executor/cuda/cuda_dnn.cc:368] Loaded cuDNN version 8100\n",
      "2022-05-30 13:45:59.401739: I tensorflow/core/platform/default/subprocess.cc:304] Start cannot spawn child process: No such file or directory\n"
     ]
    },
    {
     "name": "stdout",
     "output_type": "stream",
     "text": [
      "187/187 [==============================] - 3s 8ms/step - loss: 4.5016 - output1_loss: 2.2528 - output2_loss: 2.2488 - val_loss: 4.0562 - val_output1_loss: 2.0275 - val_output2_loss: 2.0287\n",
      "Epoch 2/10\n",
      "187/187 [==============================] - 1s 8ms/step - loss: 4.2880 - output1_loss: 2.1477 - output2_loss: 2.1404 - val_loss: 3.8793 - val_output1_loss: 1.9348 - val_output2_loss: 1.9445\n",
      "Epoch 3/10\n",
      "187/187 [==============================] - 1s 6ms/step - loss: 4.1670 - output1_loss: 2.0862 - output2_loss: 2.0808 - val_loss: 3.5738 - val_output1_loss: 1.8055 - val_output2_loss: 1.7683\n",
      "Epoch 4/10\n",
      "187/187 [==============================] - 1s 8ms/step - loss: 4.0587 - output1_loss: 2.0313 - output2_loss: 2.0274 - val_loss: 3.5086 - val_output1_loss: 1.7662 - val_output2_loss: 1.7424\n",
      "Epoch 5/10\n",
      "187/187 [==============================] - 2s 8ms/step - loss: 3.9558 - output1_loss: 1.9814 - output2_loss: 1.9743 - val_loss: 3.2426 - val_output1_loss: 1.6303 - val_output2_loss: 1.6123\n",
      "Epoch 6/10\n",
      "187/187 [==============================] - 2s 8ms/step - loss: 3.9052 - output1_loss: 1.9546 - output2_loss: 1.9506 - val_loss: 3.2179 - val_output1_loss: 1.6288 - val_output2_loss: 1.5891\n",
      "Epoch 7/10\n",
      "187/187 [==============================] - 1s 7ms/step - loss: 3.9040 - output1_loss: 1.9549 - output2_loss: 1.9491 - val_loss: 3.1108 - val_output1_loss: 1.5602 - val_output2_loss: 1.5506\n",
      "Epoch 8/10\n",
      "187/187 [==============================] - 2s 11ms/step - loss: 3.7921 - output1_loss: 1.8956 - output2_loss: 1.8965 - val_loss: 2.9620 - val_output1_loss: 1.4841 - val_output2_loss: 1.4779\n",
      "Epoch 9/10\n",
      "187/187 [==============================] - 1s 7ms/step - loss: 3.7650 - output1_loss: 1.8820 - output2_loss: 1.8830 - val_loss: 2.9465 - val_output1_loss: 1.4769 - val_output2_loss: 1.4697\n",
      "Epoch 10/10\n",
      "187/187 [==============================] - 1s 7ms/step - loss: 3.7507 - output1_loss: 1.8743 - output2_loss: 1.8765 - val_loss: 2.8360 - val_output1_loss: 1.4149 - val_output2_loss: 1.4211\n"
     ]
    },
    {
     "data": {
      "text/plain": [
       "<keras.callbacks.History at 0x7fc607e4c640>"
      ]
     },
     "execution_count": 9,
     "metadata": {},
     "output_type": "execute_result"
    }
   ],
   "source": [
    "model_cnn.compile(loss=[keras.losses.SparseCategoricalCrossentropy(from_logits=True),\n",
    "                        keras.losses.SparseCategoricalCrossentropy(from_logits=True)],\n",
    "              optimizer=keras.optimizers.RMSprop())\n",
    "model_cnn.fit(datagen,\n",
    "          epochs=10,\n",
    "          validation_data=(x_test, [y_test, y_test]))"
   ]
  },
  {
   "cell_type": "markdown",
   "metadata": {},
   "source": [
    "We can see from above, our model trains. In this instance you really can ignore the losses - we're not training a serious model here (the data augmentation is too extreme, and we have the same task twice), but hopefully from the above you can see you could do this for real."
   ]
  },
  {
   "cell_type": "markdown",
   "metadata": {},
   "source": [
    "# Data Augmentation for Segmentation data and multi classification model\n",
    "\n",
    "\n",
    "Want to create an dataset that will apply consistent augmentation to an input image\n",
    "and the corresponding segmentation map (ie. if the image is rotated, rotate the segmentation map).\n",
    "\n",
    "The following class implements this with the `tf.data.Dataset` objects, which are the newer methods\n",
    "for loading in data in Tensorflow (the `ImageDataGenerator` is actually deprecated now and might be removed\n",
    "sometime in the future). Within af `tf.data.Dataset` object, we can apply arbitrary python logic to a batch\n",
    "by using the `.map()` method.\n",
    "\n",
    "\n",
    "Hopefully you can see the logic of whats going on here, and how you could modify it for your tasks.\n",
    "\n",
    "\n",
    "## NOTE: Need to install additional package for image rotations\n",
    "Am using the `tensorflow_addons` package which includes additional things for tensorflow,\n",
    "so will need to run something like\n",
    "\n",
    "`pip install tensorflow_addons`\n",
    "\n",
    "\n",
    "in your terminal, or you can try uncommenting and running the following cell to install it using the magic\n",
    "commands for ipython"
   ]
  },
  {
   "cell_type": "code",
   "execution_count": null,
   "metadata": {},
   "outputs": [],
   "source": []
  },
  {
   "cell_type": "code",
   "execution_count": 10,
   "metadata": {
    "collapsed": false,
    "jupyter": {
     "outputs_hidden": false
    }
   },
   "outputs": [],
   "source": [
    "# !pip install tensorflow_addons"
   ]
  },
  {
   "cell_type": "markdown",
   "metadata": {},
   "source": [
    "## SECOND NODE: This is not trivial\n",
    "Reminder that for your assigment (A1C in 2022), you don't need to use the semantic segmentation data at all. Implementing this is a little bit more work, but I am hoping that for people who do want to implement it with semantic segmentation and the datau augmentation, you could use this as a template to get you going."
   ]
  },
  {
   "cell_type": "code",
   "execution_count": null,
   "metadata": {},
   "outputs": [],
   "source": []
  },
  {
   "cell_type": "markdown",
   "metadata": {},
   "source": [
    "Here is the custom class I made which implements some of the functionality for data augmentation with the semantic segmentation data as well.\n",
    "All the augmentation functionality is implemented in the `initialise_augmentation_operations` method. If you wanted to add additional augmentation, you could do so here following the style I have used."
   ]
  },
  {
   "cell_type": "code",
   "execution_count": 11,
   "metadata": {
    "collapsed": false,
    "jupyter": {
     "outputs_hidden": false
    }
   },
   "outputs": [],
   "source": [
    "# Class for the dataset which returns augmented images,\n",
    "# augmented semantic segmentation data and class labels\n",
    "\n",
    "import tensorflow_addons as tfa\n",
    "import tensorflow as tf\n",
    "\n",
    "class DatasetWithSegmentation():\n",
    "    'Generates data for Keras'\n",
    "    \n",
    "    # Input arguments are as follows:\n",
    "    #  x:            our X data array that we'll augment\n",
    "    #  seg:          semantic segmentation data\n",
    "    #  y_one:        y labels for the first output\n",
    "    #  y_two:        y labels for the second ouput\n",
    "    #  data_aug:     our data augmentor\n",
    "    #  batch_size:   the batch size to return from the generator\n",
    "    #  dim:          size of images\n",
    "    #  n_channels:   number of image channels\n",
    "    #  shuffle:      flag to indicate if we should shuffle the data at the end of the epoch\n",
    "    #  rotation_range: int og degrees acceptable rotation for augmentation\n",
    "    #                If is none, then wont do any random rotations\n",
    "    # flip_lr:       Boolean to say if random flip_lr applied\n",
    "    def __init__(self, x, seg, y_one, y_two,                 \n",
    "                 batch_size=32, dim=(28,28), n_channels=1,\n",
    "                 shuffle=True,\n",
    "                 rotation_range=None,\n",
    "                 flip_lr=False):\n",
    "        # Saving class attributes\n",
    "        # \n",
    "        # if shuffling, shuffle here\n",
    "        self.dim = dim\n",
    "        self.batch_size = batch_size\n",
    "        self.shuffle = shuffle\n",
    "        self.num_samples = x.shape[0]\n",
    "        self.rotation_range = rotation_range\n",
    "        self.flip_lr = flip_lr\n",
    "        self.dataset = tf.data.Dataset.from_tensor_slices((x, seg, y_one, y_two))\n",
    "        # if shuffling, need to specify it here\n",
    "        if self.shuffle:\n",
    "            self.dataset.shuffle(buffer_size=self.num_samples)\n",
    "        # this is a method that will add all the augmentation operations\n",
    "        # we specified\n",
    "        self.initialise_augmentation_operations()\n",
    "        # perform batching here\n",
    "        # by batching here, each individual input will have its\n",
    "        # own augmentation params specified. Is more computationally expensive,\n",
    "        # but will get more of the benefits of augmentation schemes\n",
    "        self.dataset = self.dataset.batch(self.batch_size)\n",
    "        # need to have clear separation between inputs and outputs, so\n",
    "        # adding a function that will do that here\n",
    "        def separate_inputs_outputs(image, segmentation_map, class_1, class_2):\n",
    "            return image, (segmentation_map, class_1, class_2)\n",
    "        self.dataset = self.dataset.map(separate_inputs_outputs)\n",
    "\n",
    "        \n",
    "    def initialise_augmentation_operations(self):\n",
    "        # now specify additional augmentation argumentation operations here\n",
    "        # if rotation_range is not None, then we specified we want to\n",
    "        # do some random rotation\n",
    "        if self.rotation_range is not None:\n",
    "            # create the augmentation logic for rotation\n",
    "            def rotation_fn(image, segmentation_map, class_1, class_2):\n",
    "                # sample a rotation range to be applied to the image and segmentation\n",
    "                print(image.shape)\n",
    "                rot_deg = tf.random.uniform([1], minval=-self.rotation_range,\n",
    "                                            maxval=self.rotation_range)\n",
    "                # apply rotation to image and segmentation\n",
    "                image = tfa.image.rotate(image, rot_deg)\n",
    "                segmentation_map = tfa.image.rotate(segmentation_map, rot_deg)\n",
    "                return image, segmentation_map, class_1, class_2\n",
    "            # now apply (or map) the rotation data augmentation function\n",
    "            self.dataset = self.dataset.map(rotation_fn)\n",
    "            \n",
    "        # now lets see about flip_lr\n",
    "        if self.flip_lr:\n",
    "            # create the augmentation logic for random flipping left or right\n",
    "            def flip_lr_fn(image, segmentation_map, class_1, class_2):\n",
    "                # sample a random integer of either zero or one\n",
    "                # will flip with probability of 0.5\n",
    "                flip_flag = tf.random.uniform([1], minval=0,maxval=1)\n",
    "                # apply rotation to image and segmentation\n",
    "                if tf.cast(flip_flag, tf.bool):\n",
    "                    image = tf.image.flip_left_right(image)\n",
    "                    segmentation_map = tf.image.flip_left_right(segmentation_map)\n",
    "                return image, segmentation_map, class_1, class_2\n",
    "            \n",
    "\n",
    "            "
   ]
  },
  {
   "cell_type": "code",
   "execution_count": 12,
   "metadata": {
    "collapsed": false,
    "jupyter": {
     "outputs_hidden": false
    }
   },
   "outputs": [
    {
     "name": "stdout",
     "output_type": "stream",
     "text": [
      "1.0\n"
     ]
    }
   ],
   "source": [
    "seg_map = np.copy(x_train)\n",
    "print(np.max(x_train))\n",
    "# applying a gaussian blur here\n",
    "# This will just try and fill in some of the holes in the images to create a more\n",
    "# complete segmentation map when we threshold it\n",
    "seg_map = tfa.image.gaussian_filter2d(seg_map).numpy()\n",
    "#print(seg_map)\n",
    "seg_map[seg_map < 0.05] = 0\n",
    "seg_map[seg_map >0] = 1\n",
    "\n",
    "\n"
   ]
  },
  {
   "cell_type": "code",
   "execution_count": 13,
   "metadata": {
    "collapsed": false,
    "jupyter": {
     "outputs_hidden": false
    }
   },
   "outputs": [
    {
     "data": {
      "image/png": "[encoded data removed]",
      "text/plain": [
       "<Figure size 432x288 with 16 Axes>"
      ]
     },
     "metadata": {
      "needs_background": "light"
     },
     "output_type": "display_data"
    }
   ],
   "source": [
    "# plotting some of them\n",
    "fig = plt.figure()\n",
    "for i in range(0, 8):\n",
    "    ax = fig.add_subplot(4, 4, i * 2 + 1)\n",
    "    ax.imshow(seg_map[i, :,:,0])\n",
    "    ax = fig.add_subplot(4, 4, i * 2 + 2)\n",
    "    ax.imshow(x_train[i, :,:,0])"
   ]
  },
  {
   "cell_type": "code",
   "execution_count": 14,
   "metadata": {
    "collapsed": false,
    "jupyter": {
     "outputs_hidden": false
    }
   },
   "outputs": [
    {
     "name": "stdout",
     "output_type": "stream",
     "text": [
      "(28, 28, 1)\n"
     ]
    }
   ],
   "source": [
    "custom_dataset = DatasetWithSegmentation(x_train, seg_map, y_train, y_train,                 \n",
    "                                         batch_size=32, dim=(28,28), n_channels=1,\n",
    "                                         shuffle=True,\n",
    "                                         rotation_range=45,\n",
    "                                         flip_lr=True)"
   ]
  },
  {
   "cell_type": "code",
   "execution_count": null,
   "metadata": {
    "collapsed": false,
    "jupyter": {
     "outputs_hidden": false
    }
   },
   "outputs": [],
   "source": []
  },
  {
   "cell_type": "code",
   "execution_count": 15,
   "metadata": {
    "collapsed": false,
    "jupyter": {
     "outputs_hidden": false
    }
   },
   "outputs": [
    {
     "name": "stdout",
     "output_type": "stream",
     "text": [
      "2\n",
      "(32, 28, 28, 1)\n",
      "(32, 28, 28, 1)\n",
      "(32, 1)\n",
      "(32, 1)\n"
     ]
    }
   ],
   "source": [
    "# want to create an iterator of it now just so I can plot]\n",
    "# some of the samples and check its all working\n",
    "data_iter = iter(custom_dataset.dataset)\n",
    "x = next(data_iter)\n",
    "print(len(x))\n",
    "print(x[0].shape)\n",
    "print(x[1][0].shape)\n",
    "print(x[1][1].shape)\n",
    "print(x[1][2].shape)"
   ]
  },
  {
   "cell_type": "code",
   "execution_count": 16,
   "metadata": {
    "collapsed": false,
    "jupyter": {
     "outputs_hidden": false
    }
   },
   "outputs": [
    {
     "data": {
      "image/png": "[encoded data removed]",
      "text/plain": [
       "<Figure size 432x288 with 16 Axes>"
      ]
     },
     "metadata": {
      "needs_background": "light"
     },
     "output_type": "display_data"
    }
   ],
   "source": [
    "fig = plt.figure()\n",
    "im = x[0]\n",
    "seg = x[1][0]\n",
    "for i in range(0, 8):\n",
    "    ax = fig.add_subplot(4, 4, i * 2 + 1)\n",
    "    ax.imshow(im[i, :,:, :])\n",
    "    ax = fig.add_subplot(4, 4, i * 2 + 2)\n",
    "    ax.imshow(seg[i, :, :,:])"
   ]
  },
  {
   "cell_type": "code",
   "execution_count": null,
   "metadata": {
    "collapsed": false,
    "jupyter": {
     "outputs_hidden": false
    }
   },
   "outputs": [],
   "source": []
  },
  {
   "cell_type": "code",
   "execution_count": 17,
   "metadata": {
    "collapsed": false,
    "jupyter": {
     "outputs_hidden": false
    }
   },
   "outputs": [
    {
     "name": "stdout",
     "output_type": "stream",
     "text": [
      "Model: \"fmnist_dummy_model\"\n",
      "__________________________________________________________________________________________________\n",
      " Layer (type)                   Output Shape         Param #     Connected to                     \n",
      "==================================================================================================\n",
      " img (InputLayer)               [(None, 28, 28, 1)]  0           []                               \n",
      "                                                                                                  \n",
      " conv2d_3 (Conv2D)              (None, 28, 28, 8)    80          ['img[0][0]']                    \n",
      "                                                                                                  \n",
      " max_pooling2d_2 (MaxPooling2D)  (None, 14, 14, 8)   0           ['conv2d_3[0][0]']               \n",
      "                                                                                                  \n",
      " conv2d_4 (Conv2D)              (None, 14, 14, 16)   1168        ['max_pooling2d_2[0][0]']        \n",
      "                                                                                                  \n",
      " max_pooling2d_3 (MaxPooling2D)  (None, 7, 7, 16)    0           ['conv2d_4[0][0]']               \n",
      "                                                                                                  \n",
      " conv2d_5 (Conv2D)              (None, 7, 7, 32)     4640        ['max_pooling2d_3[0][0]']        \n",
      "                                                                                                  \n",
      " conv2d_6 (Conv2D)              (None, 7, 7, 32)     9248        ['conv2d_5[0][0]']               \n",
      "                                                                                                  \n",
      " up_sampling2d (UpSampling2D)   (None, 14, 14, 32)   0           ['conv2d_6[0][0]']               \n",
      "                                                                                                  \n",
      " conv2d_7 (Conv2D)              (None, 14, 14, 16)   4624        ['up_sampling2d[0][0]']          \n",
      "                                                                                                  \n",
      " up_sampling2d_1 (UpSampling2D)  (None, 28, 28, 16)  0           ['conv2d_7[0][0]']               \n",
      "                                                                                                  \n",
      " flatten_1 (Flatten)            (None, 1568)         0           ['conv2d_5[0][0]']               \n",
      "                                                                                                  \n",
      " conv2d_8 (Conv2D)              (None, 28, 28, 8)    1160        ['up_sampling2d_1[0][0]']        \n",
      "                                                                                                  \n",
      " dense_2 (Dense)                (None, 64)           100416      ['flatten_1[0][0]']              \n",
      "                                                                                                  \n",
      " dense_3 (Dense)                (None, 64)           100416      ['flatten_1[0][0]']              \n",
      "                                                                                                  \n",
      " segmentation (Conv2D)          (None, 28, 28, 1)    73          ['conv2d_8[0][0]']               \n",
      "                                                                                                  \n",
      " output1 (Dense)                (None, 10)           650         ['dense_2[0][0]']                \n",
      "                                                                                                  \n",
      " output2 (Dense)                (None, 10)           650         ['dense_3[0][0]']                \n",
      "                                                                                                  \n",
      "==================================================================================================\n",
      "Total params: 223,125\n",
      "Trainable params: 223,125\n",
      "Non-trainable params: 0\n",
      "__________________________________________________________________________________________________\n"
     ]
    }
   ],
   "source": [
    "# creating a model now for multi task classification and semantic segmentation\n",
    "inputs = keras.Input(shape=(28, 28, 1, ), name='img')\n",
    "x = layers.Conv2D(filters=8, kernel_size=(3,3), padding='same', activation='relu')(inputs)\n",
    "x = layers.MaxPool2D(pool_size=(2, 2))(x)\n",
    "x = layers.Conv2D(filters=16, kernel_size=(3,3), padding='same', activation='relu')(x)\n",
    "x = layers.MaxPool2D(pool_size=(2, 2))(x)\n",
    "encoded = layers.Conv2D(filters=32, kernel_size=(3,3), padding='same',activation='relu')(x)\n",
    "encoded_flat = layers.Flatten()(encoded)\n",
    "x1 = layers.Dense(64, activation='relu')(encoded_flat)\n",
    "output_1 = layers.Dense(10, name='output1')(x1)\n",
    "x2 = layers.Dense(64, activation='relu')(encoded_flat)\n",
    "output_2 = layers.Dense(10, name='output2')(x2)\n",
    "\n",
    "x = layers.Conv2D(filters=32, kernel_size=(3,3), padding='same', activation='relu')(encoded)\n",
    "x = layers.UpSampling2D(size=(2, 2))(x)\n",
    "x = layers.Conv2D(filters=16, kernel_size=(3,3), padding='same', activation='relu')(x)\n",
    "x = layers.UpSampling2D(size=(2, 2))(x)\n",
    "x = layers.Conv2D(filters=8, kernel_size=(3,3), padding='same',activation='relu')(x)\n",
    "# note that the number of filters here is (1), because the number of classes in this\n",
    "# toy semantic segmentation model is two (either object is here or it isn't, is a binary problem)\n",
    "# For this reason we are using the Sigmoid activation (essentially pixelwise binary classification).\n",
    "# For more classes, will need to change the number of filters and use the softmax activation.\n",
    "# Refer to the lecture examples for more info\n",
    "decoded = layers.Conv2D(filters=1, kernel_size=(3,3), padding='same',activation='sigmoid', name='segmentation')(x)\n",
    "\n",
    "# multi classification and segmentation model\n",
    "model_cnn = keras.Model(inputs=inputs, outputs=[decoded, output_1, output_2], name='fmnist_dummy_model')\n",
    "model_cnn.summary()"
   ]
  },
  {
   "cell_type": "markdown",
   "metadata": {},
   "source": [
    "Lets compile the model now and fit it and see how we go."
   ]
  },
  {
   "cell_type": "code",
   "execution_count": 18,
   "metadata": {
    "collapsed": false,
    "jupyter": {
     "outputs_hidden": false
    }
   },
   "outputs": [
    {
     "name": "stdout",
     "output_type": "stream",
     "text": [
      "Epoch 1/50\n",
      "94/94 [==============================] - 1s 5ms/step - loss: 4.0371 - segmentation_loss: 0.3134 - output1_loss: 1.8670 - output2_loss: 1.8566\n",
      "Epoch 2/50\n",
      "94/94 [==============================] - 0s 3ms/step - loss: 2.9797 - segmentation_loss: 0.1487 - output1_loss: 1.4092 - output2_loss: 1.4217\n",
      "Epoch 3/50\n",
      "94/94 [==============================] - 0s 3ms/step - loss: 2.6464 - segmentation_loss: 0.1259 - output1_loss: 1.2525 - output2_loss: 1.2681\n",
      "Epoch 4/50\n",
      "94/94 [==============================] - 0s 3ms/step - loss: 2.4367 - segmentation_loss: 0.1131 - output1_loss: 1.1530 - output2_loss: 1.1705\n",
      "Epoch 5/50\n",
      "94/94 [==============================] - 0s 3ms/step - loss: 2.2661 - segmentation_loss: 0.1055 - output1_loss: 1.0727 - output2_loss: 1.0879\n",
      "Epoch 6/50\n",
      "94/94 [==============================] - 0s 3ms/step - loss: 2.1575 - segmentation_loss: 0.0999 - output1_loss: 1.0218 - output2_loss: 1.0359\n",
      "Epoch 7/50\n",
      "94/94 [==============================] - 0s 3ms/step - loss: 2.0646 - segmentation_loss: 0.0961 - output1_loss: 0.9787 - output2_loss: 0.9898\n",
      "Epoch 8/50\n",
      "94/94 [==============================] - 0s 3ms/step - loss: 1.9994 - segmentation_loss: 0.0921 - output1_loss: 0.9462 - output2_loss: 0.9611\n",
      "Epoch 9/50\n",
      "94/94 [==============================] - 0s 3ms/step - loss: 1.9494 - segmentation_loss: 0.0893 - output1_loss: 0.9232 - output2_loss: 0.9369\n",
      "Epoch 10/50\n",
      "94/94 [==============================] - 0s 3ms/step - loss: 1.9032 - segmentation_loss: 0.0877 - output1_loss: 0.9060 - output2_loss: 0.9095\n",
      "Epoch 11/50\n",
      "94/94 [==============================] - 0s 3ms/step - loss: 1.8372 - segmentation_loss: 0.0859 - output1_loss: 0.8764 - output2_loss: 0.8749\n",
      "Epoch 12/50\n",
      "94/94 [==============================] - 0s 3ms/step - loss: 1.8164 - segmentation_loss: 0.0851 - output1_loss: 0.8679 - output2_loss: 0.8633\n",
      "Epoch 13/50\n",
      "94/94 [==============================] - 0s 3ms/step - loss: 1.8023 - segmentation_loss: 0.0840 - output1_loss: 0.8572 - output2_loss: 0.8611\n",
      "Epoch 14/50\n",
      "94/94 [==============================] - 0s 3ms/step - loss: 1.7497 - segmentation_loss: 0.0830 - output1_loss: 0.8378 - output2_loss: 0.8289\n",
      "Epoch 15/50\n",
      "94/94 [==============================] - 0s 3ms/step - loss: 1.7272 - segmentation_loss: 0.0828 - output1_loss: 0.8273 - output2_loss: 0.8171\n",
      "Epoch 16/50\n",
      "94/94 [==============================] - 0s 3ms/step - loss: 1.6880 - segmentation_loss: 0.0815 - output1_loss: 0.8093 - output2_loss: 0.7971\n",
      "Epoch 17/50\n",
      "94/94 [==============================] - 0s 3ms/step - loss: 1.6555 - segmentation_loss: 0.0808 - output1_loss: 0.7949 - output2_loss: 0.7798\n",
      "Epoch 18/50\n",
      "94/94 [==============================] - 0s 3ms/step - loss: 1.6240 - segmentation_loss: 0.0794 - output1_loss: 0.7808 - output2_loss: 0.7639\n",
      "Epoch 19/50\n",
      "94/94 [==============================] - 0s 3ms/step - loss: 1.6202 - segmentation_loss: 0.0792 - output1_loss: 0.7750 - output2_loss: 0.7659\n",
      "Epoch 20/50\n",
      "94/94 [==============================] - 0s 3ms/step - loss: 1.5677 - segmentation_loss: 0.0787 - output1_loss: 0.7490 - output2_loss: 0.7401\n",
      "Epoch 21/50\n",
      "94/94 [==============================] - 0s 3ms/step - loss: 1.5814 - segmentation_loss: 0.0793 - output1_loss: 0.7591 - output2_loss: 0.7430\n",
      "Epoch 22/50\n",
      "94/94 [==============================] - 0s 3ms/step - loss: 1.5288 - segmentation_loss: 0.0782 - output1_loss: 0.7360 - output2_loss: 0.7146\n",
      "Epoch 23/50\n",
      "94/94 [==============================] - 0s 3ms/step - loss: 1.5091 - segmentation_loss: 0.0782 - output1_loss: 0.7192 - output2_loss: 0.7116\n",
      "Epoch 24/50\n",
      "94/94 [==============================] - 0s 3ms/step - loss: 1.4967 - segmentation_loss: 0.0773 - output1_loss: 0.7148 - output2_loss: 0.7046\n",
      "Epoch 25/50\n",
      "94/94 [==============================] - 0s 3ms/step - loss: 1.4645 - segmentation_loss: 0.0774 - output1_loss: 0.6973 - output2_loss: 0.6898\n",
      "Epoch 26/50\n",
      "94/94 [==============================] - 0s 3ms/step - loss: 1.4363 - segmentation_loss: 0.0774 - output1_loss: 0.6831 - output2_loss: 0.6758\n",
      "Epoch 27/50\n",
      "94/94 [==============================] - 0s 3ms/step - loss: 1.4462 - segmentation_loss: 0.0762 - output1_loss: 0.6943 - output2_loss: 0.6757\n",
      "Epoch 28/50\n",
      "94/94 [==============================] - 0s 3ms/step - loss: 1.4194 - segmentation_loss: 0.0761 - output1_loss: 0.6789 - output2_loss: 0.6644\n",
      "Epoch 29/50\n",
      "94/94 [==============================] - 0s 3ms/step - loss: 1.4258 - segmentation_loss: 0.0764 - output1_loss: 0.6827 - output2_loss: 0.6667\n",
      "Epoch 30/50\n",
      "94/94 [==============================] - 0s 3ms/step - loss: 1.3805 - segmentation_loss: 0.0767 - output1_loss: 0.6576 - output2_loss: 0.6462\n",
      "Epoch 31/50\n",
      "94/94 [==============================] - 0s 3ms/step - loss: 1.3691 - segmentation_loss: 0.0761 - output1_loss: 0.6515 - output2_loss: 0.6415\n",
      "Epoch 32/50\n",
      "94/94 [==============================] - 0s 3ms/step - loss: 1.3542 - segmentation_loss: 0.0747 - output1_loss: 0.6467 - output2_loss: 0.6329\n",
      "Epoch 33/50\n",
      "94/94 [==============================] - 0s 3ms/step - loss: 1.3756 - segmentation_loss: 0.0757 - output1_loss: 0.6548 - output2_loss: 0.6451\n",
      "Epoch 34/50\n",
      "94/94 [==============================] - 0s 3ms/step - loss: 1.3352 - segmentation_loss: 0.0743 - output1_loss: 0.6373 - output2_loss: 0.6235\n",
      "Epoch 35/50\n",
      "94/94 [==============================] - 0s 3ms/step - loss: 1.3331 - segmentation_loss: 0.0742 - output1_loss: 0.6324 - output2_loss: 0.6266\n",
      "Epoch 36/50\n",
      "94/94 [==============================] - 0s 3ms/step - loss: 1.2994 - segmentation_loss: 0.0747 - output1_loss: 0.6172 - output2_loss: 0.6075\n",
      "Epoch 37/50\n",
      "94/94 [==============================] - 0s 3ms/step - loss: 1.3088 - segmentation_loss: 0.0747 - output1_loss: 0.6255 - output2_loss: 0.6086\n",
      "Epoch 38/50\n",
      "94/94 [==============================] - 0s 3ms/step - loss: 1.3068 - segmentation_loss: 0.0738 - output1_loss: 0.6161 - output2_loss: 0.6169\n",
      "Epoch 39/50\n",
      "94/94 [==============================] - 0s 3ms/step - loss: 1.2701 - segmentation_loss: 0.0738 - output1_loss: 0.6070 - output2_loss: 0.5893\n",
      "Epoch 40/50\n",
      "94/94 [==============================] - 0s 3ms/step - loss: 1.2705 - segmentation_loss: 0.0735 - output1_loss: 0.6074 - output2_loss: 0.5896\n",
      "Epoch 41/50\n",
      "94/94 [==============================] - 0s 3ms/step - loss: 1.2690 - segmentation_loss: 0.0739 - output1_loss: 0.6045 - output2_loss: 0.5907\n",
      "Epoch 42/50\n",
      "94/94 [==============================] - 0s 3ms/step - loss: 1.2447 - segmentation_loss: 0.0729 - output1_loss: 0.5977 - output2_loss: 0.5742\n",
      "Epoch 43/50\n",
      "94/94 [==============================] - 0s 3ms/step - loss: 1.2293 - segmentation_loss: 0.0732 - output1_loss: 0.5786 - output2_loss: 0.5774\n",
      "Epoch 44/50\n",
      "94/94 [==============================] - 0s 3ms/step - loss: 1.2306 - segmentation_loss: 0.0733 - output1_loss: 0.5846 - output2_loss: 0.5727\n",
      "Epoch 45/50\n",
      "94/94 [==============================] - 0s 3ms/step - loss: 1.2132 - segmentation_loss: 0.0733 - output1_loss: 0.5751 - output2_loss: 0.5648\n",
      "Epoch 46/50\n",
      "94/94 [==============================] - 0s 3ms/step - loss: 1.2345 - segmentation_loss: 0.0728 - output1_loss: 0.5831 - output2_loss: 0.5786\n",
      "Epoch 47/50\n",
      "94/94 [==============================] - 0s 3ms/step - loss: 1.1869 - segmentation_loss: 0.0725 - output1_loss: 0.5598 - output2_loss: 0.5546\n",
      "Epoch 48/50\n",
      "94/94 [==============================] - 0s 3ms/step - loss: 1.1938 - segmentation_loss: 0.0726 - output1_loss: 0.5654 - output2_loss: 0.5559\n",
      "Epoch 49/50\n",
      "94/94 [==============================] - 0s 3ms/step - loss: 1.1984 - segmentation_loss: 0.0726 - output1_loss: 0.5684 - output2_loss: 0.5574\n",
      "Epoch 50/50\n",
      "94/94 [==============================] - 0s 3ms/step - loss: 1.1743 - segmentation_loss: 0.0725 - output1_loss: 0.5559 - output2_loss: 0.5459\n"
     ]
    },
    {
     "data": {
      "text/plain": [
       "<keras.callbacks.History at 0x7fc6080f9b20>"
      ]
     },
     "execution_count": 18,
     "metadata": {},
     "output_type": "execute_result"
    }
   ],
   "source": [
    "# In the lecture examples we used the focal loss, but here I am going to use just the binary cross entropy,\n",
    "# as class imbalance is not a big issue here (also this is just for demo purposes)\n",
    "# Note that I am setting `from_logits` to False for the segmentation loss, because I explicitly\n",
    "# set the output activation to be a sigmoid earlier in the model (which converted the logits to a binary/Bernoulli probability)\n",
    "\n",
    "model_cnn.compile(loss=[keras.losses.BinaryCrossentropy(from_logits=False),\n",
    "                        keras.losses.SparseCategoricalCrossentropy(from_logits=True),\n",
    "                        keras.losses.SparseCategoricalCrossentropy(from_logits=True)],\n",
    "              optimizer=keras.optimizers.Adam())\n",
    "\n",
    "model_cnn.fit(custom_dataset.dataset,\n",
    "              epochs=50)"
   ]
  },
  {
   "cell_type": "markdown",
   "metadata": {},
   "source": [
    "Lets plot some of the results now and see how we went.\n",
    "I can create a new dataset for the testing data that doesn't apply any augmentation, and feed that\n",
    "straight into the predict function of the model."
   ]
  },
  {
   "cell_type": "code",
   "execution_count": 19,
   "metadata": {
    "collapsed": false,
    "jupyter": {
     "outputs_hidden": false
    }
   },
   "outputs": [],
   "source": [
    "# creating segmentation maps for the testing data\n",
    "seg_map_test = np.copy(x_test)\n",
    "# applying a gaussian blur here\n",
    "# This will just try and fill in some of the holes in the images to create a more\n",
    "# complete segmentation map when we threshold it\n",
    "seg_map_test = tfa.image.gaussian_filter2d(seg_map_test).numpy()\n",
    "seg_map_test[seg_map_test < 0.05] = 0\n",
    "seg_map_test[seg_map_test >0] = 1\n",
    "# create the dataset object\n",
    "# i defined all augmentation values to be False/None by default\n",
    "dataset_test = DatasetWithSegmentation(x_test, seg_map_test, y_test, y_test,                 \n",
    "                                       batch_size=32, dim=(28,28), n_channels=1)\n"
   ]
  },
  {
   "cell_type": "code",
   "execution_count": 20,
   "metadata": {
    "collapsed": false,
    "jupyter": {
     "outputs_hidden": false
    }
   },
   "outputs": [],
   "source": [
    "pred_seg, pred_class_one, pred_class_two = model_cnn.predict(dataset_test.dataset)\n"
   ]
  },
  {
   "cell_type": "code",
   "execution_count": 21,
   "metadata": {
    "collapsed": false,
    "jupyter": {
     "outputs_hidden": false
    }
   },
   "outputs": [
    {
     "name": "stdout",
     "output_type": "stream",
     "text": [
      "classification accuracy first task = 0.76\n",
      "classification accuracy second task = 0.7511\n"
     ]
    }
   ],
   "source": [
    "# should be very, very, very similar performance here, as essentially doing the same thing\n",
    "print('classification accuracy first task = {}'.format(accuracy_score(y_test, np.argmax(pred_class_one, axis=1))))\n",
    "print('classification accuracy second task = {}'.format(accuracy_score(y_test, np.argmax(pred_class_two, axis=1))))"
   ]
  },
  {
   "cell_type": "code",
   "execution_count": 22,
   "metadata": {
    "collapsed": false,
    "jupyter": {
     "outputs_hidden": false
    }
   },
   "outputs": [
    {
     "data": {
      "image/png": "[encoded data removed]",
      "text/plain": [
       "<Figure size 432x288 with 16 Axes>"
      ]
     },
     "metadata": {
      "needs_background": "light"
     },
     "output_type": "display_data"
    }
   ],
   "source": [
    "# what about the segmentation maps?\n",
    "fig = plt.figure()\n",
    "im = x[0]\n",
    "seg = x[1][0]\n",
    "for i in range(0, 8):\n",
    "    ax = fig.add_subplot(4, 4, i * 2 + 1)\n",
    "    ax.imshow(x_test[i, :,:, :])\n",
    "    ax = fig.add_subplot(4, 4, i * 2 + 2)\n",
    "    ax.imshow(pred_seg[i, :, :,:])\n"
   ]
  },
  {
   "cell_type": "markdown",
   "metadata": {
    "jupyter": {
     "outputs_hidden": false
    }
   },
   "source": [
    "looks pretty good to me. Hopefully this gives you an idea of how you can apply augmentation to multi task model with semantic segmenation data. And remember some of the augmentation params I have used are extreme (eg. rotation range of 45 degrees is a bit much)."
   ]
  },
  {
   "cell_type": "code",
   "execution_count": null,
   "metadata": {},
   "outputs": [],
   "source": []
  },
  {
   "cell_type": "markdown",
   "metadata": {
    "jupyter": {
     "outputs_hidden": false
    }
   },
   "source": []
  }
 ],
 "metadata": {
  "kernelspec": {
   "display_name": "Python 3 (ipykernel)",
   "language": "python",
   "name": "python3"
  },
  "language_info": {
   "codemirror_mode": {
    "name": "ipython",
    "version": 3
   },
   "file_extension": ".py",
   "mimetype": "text/x-python",
   "name": "python",
   "nbconvert_exporter": "python",
   "pygments_lexer": "ipython3",
   "version": "3.9.12"
  },
  "name": "Datagen_multi_task_example.ipynb"
 },
 "nbformat": 4,
 "nbformat_minor": 4
}
