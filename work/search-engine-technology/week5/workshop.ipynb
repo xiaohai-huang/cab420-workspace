{
 "cells": [
  {
   "cell_type": "code",
   "execution_count": 2,
   "metadata": {},
   "outputs": [],
   "source": [
    "docs = {\n",
    "    'D1':{'term1':3, 'term4':5, 'term5':7},\n",
    "    'D2':{'term1':5, 'term2':3, 'term3':4, 'term4':6}, \n",
    "    'D3':{'term3':5, 'term4':4, 'term5':6}, \n",
    "    'D4':{'term1':9, 'term4':1, 'term5':2}, \n",
    "    'D5':{'term2':1, 'term4':3, 'term5':2},\n",
    "    'D6':{'term1':3, 'term3':2, 'term4':4, 'term5':4}\n",
    "    }\n"
   ]
  },
  {
   "cell_type": "code",
   "execution_count": 12,
   "metadata": {},
   "outputs": [],
   "source": [
    "def c_df(docs):\n",
    "    document_frequency = {}\n",
    "\n",
    "    terms = set()\n",
    "    for term_frequency in docs.values():\n",
    "        for term in term_frequency:\n",
    "            terms.add(term)\n",
    "    print(terms)\n",
    "    for term_frequency in docs.values():\n",
    "        for term in terms:\n",
    "            if term in term_frequency:\n",
    "                if term in document_frequency:\n",
    "                    document_frequency[term] += 1\n",
    "                else:\n",
    "                    document_frequency[term] = 1\n",
    "\n",
    "        \n",
    "    return document_frequency\n"
   ]
  },
  {
   "cell_type": "code",
   "execution_count": 15,
   "metadata": {},
   "outputs": [
    {
     "name": "stdout",
     "output_type": "stream",
     "text": [
      "{'term3', 'term5', 'term2', 'term1', 'term4'}\n"
     ]
    },
    {
     "data": {
      "text/plain": [
       "{'term1': 4, 'term2': 2, 'term3': 3, 'term4': 6, 'term5': 5}"
      ]
     },
     "execution_count": 15,
     "metadata": {},
     "output_type": "execute_result"
    }
   ],
   "source": [
    "{ k:v for k,v in sorted(c_df(docs).items(), key=lambda item: item[0]) }"
   ]
  },
  {
   "cell_type": "markdown",
   "metadata": {},
   "source": [
    "## Task 4"
   ]
  },
  {
   "cell_type": "code",
   "execution_count": null,
   "metadata": {},
   "outputs": [],
   "source": []
  }
 ],
 "metadata": {
  "interpreter": {
   "hash": "12328a4b23be1c7cec08b06706c715be0163e3764006085465cbbe8cea75b2e4"
  },
  "kernelspec": {
   "display_name": "Python 3.9.5 ('cab420-env')",
   "language": "python",
   "name": "python3"
  },
  "language_info": {
   "codemirror_mode": {
    "name": "ipython",
    "version": 3
   },
   "file_extension": ".py",
   "mimetype": "text/x-python",
   "name": "python",
   "nbconvert_exporter": "python",
   "pygments_lexer": "ipython3",
   "version": "3.9.5"
  },
  "orig_nbformat": 4
 },
 "nbformat": 4,
 "nbformat_minor": 2
}
