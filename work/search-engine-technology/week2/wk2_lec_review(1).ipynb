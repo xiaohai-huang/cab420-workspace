{
 "cells": [
  {
   "cell_type": "markdown",
   "id": "7bedfb5f",
   "metadata": {},
   "source": [
    "# Week 2 Text Pre-processing\n",
    "\n",
    "<author> &copy; Professor Yuefeng Li </author>\n",
    "\n",
    "\n",
    "## From Words to Terms and Text Statistics"
   ]
  },
  {
   "cell_type": "markdown",
   "id": "0ca8c8e5",
   "metadata": {},
   "source": [
    "### Question 1. \n",
    "Please open a text or an XML file (e.g., 6146.xml) and represent it as a list of paragraphs or sentences, text. You may remove any non-relevant information (e.g., \\<p\\>, \\</p\\>, \\n). After that, you need to find all terms and their frequencies (the number of occurrences in the file) if their length > 2, represent them using a dictionary, doc; and print the number of total terms (e.g., 137).  Then print the top-10 terms in doc in a descending order."
   ]
  },
  {
   "cell_type": "code",
   "execution_count": 1,
   "id": "60eca89e",
   "metadata": {},
   "outputs": [],
   "source": [
    "# open and read a xml file line by line\n",
    "myfile=open('6146.xml')\n",
    "file_=myfile.readlines()"
   ]
  },
  {
   "cell_type": "code",
   "execution_count": 2,
   "id": "a89733da",
   "metadata": {},
   "outputs": [],
   "source": [
    "# doc is initialized as a dict\n",
    "doc={}"
   ]
  },
  {
   "cell_type": "code",
   "execution_count": 3,
   "id": "700bc643",
   "metadata": {},
   "outputs": [
    {
     "name": "stdout",
     "output_type": "stream",
     "text": [
      "['Argentine bonds were slightly higher in a small technical bounce Wednesday amid low volume.', 'A trader at a large foreign bank said there was a slight technical bounce at the opening, and he did not expect prices to change much during the session as no market-moving news is expected.', \"The 5.5 percent dollar-denominated Bocon Previsional 2 due 2001 rose $0.15 to 115.15. Argentina's FRB due 2005 rose 1/8 to 77-3/8.\", \"&quot;There is general uncertainty,&quot; said the trader, pointing to all the events the market is waiting for, including the passage of the government's new economic measures through Congress, which is now not expected until early October.\", \"In addition, traders are awaiting a meeting Friday between Economy Minister Roque Fernandez and an International Monetary Fund delegation on Argentina's fiscal deficit.\", '-- Axel Bugge, Buenos Aires Newsroom, 541 318-0668']\n"
     ]
    }
   ],
   "source": [
    "# Remove several special characters using list comprehension\n",
    "\n",
    "text = [line.replace(\"<p>\", \"\").replace(\"</p>\", \"\").replace(\"\\n\", \"\") for line in file_ if line.startswith('<p>')]\n",
    "print(text)"
   ]
  },
  {
   "cell_type": "code",
   "execution_count": 4,
   "id": "1880fc34",
   "metadata": {},
   "outputs": [
    {
     "name": "stdout",
     "output_type": "stream",
     "text": [
      "137\n"
     ]
    }
   ],
   "source": [
    "# count the number of words\n",
    "word_count=0\n",
    "for line in text:\n",
    "    for term in line.split():\n",
    "        word_count += 1 \n",
    "        term = term.lower()\n",
    "        if len(term) > 2:\n",
    "            try:\n",
    "                doc[term] += 1\n",
    "            except KeyError:\n",
    "                doc[term] = 1\n",
    "print(word_count)"
   ]
  },
  {
   "cell_type": "markdown",
   "id": "40e3c101",
   "metadata": {},
   "source": [
    "### Sort the dictonary and plt the frequency distribution "
   ]
  },
  {
   "cell_type": "code",
   "execution_count": 5,
   "id": "b6c3237a",
   "metadata": {},
   "outputs": [
    {
     "name": "stdout",
     "output_type": "stream",
     "text": [
      "[('the', 8), ('technical', 2), ('bounce', 2), ('said', 2), ('and', 2), ('not', 2), ('due', 2), ('rose', 2), (\"argentina's\", 2), ('argentine', 1)]\n"
     ]
    },
    {
     "data": {
      "image/png": "[encoded data removed]",
      "text/plain": [
       "<Figure size 432x288 with 1 Axes>"
      ]
     },
     "metadata": {
      "needs_background": "light"
     },
     "output_type": "display_data"
    }
   ],
   "source": [
    "import matplotlib.pyplot as plt\n",
    "myList = doc.items()\n",
    "myList = sorted(myList, key=lambda x:x[1], reverse=True) #sorted by value\n",
    "myLList = list(myList)\n",
    "myList = myLList[:10]\n",
    "print(myList)\n",
    "x, y = zip(*myList) \n",
    "\n",
    "plt.plot(x, y)\n",
    "plt.show()\n",
    "myfile.close()"
   ]
  },
  {
   "cell_type": "code",
   "execution_count": null,
   "id": "9b7b3328",
   "metadata": {},
   "outputs": [],
   "source": [
    "#doc1=list(doc.items())\n",
    "#doc1.sort(reverse=True) #sort in reverse order by the 'key'\n",
    "#ddoc=dict(doc1)"
   ]
  },
  {
   "cell_type": "markdown",
   "id": "f6b83ee0",
   "metadata": {},
   "source": [
    "### Question 3 (n-grams)\n",
    "Typically, n-grams are formed from overlapping sequences of words., i.e. move n-word “window” one word at a time in a document. For example, bigrams are 2 words sequences, and trigrams are 3 words sequences. \n",
    "\n",
    "The definition of Tropical fish is described in the following document: \n",
    "\n",
    "<em> Tropical fish are generally those fish found in aquatic tropical environments around the world, including both freshwater and saltwater species. Fishkeepers often keep tropical fish in freshwater and saltwater aquariums. </em>\n",
    "\n",
    "Please design a python program to print all bigrams and trigrams of the above document that contain at least one of the highlighted key words (‘fish’, ‘tropical’, ‘freshwater’, ‘saltwater’, ‘aquariums’). "
   ]
  },
  {
   "cell_type": "code",
   "execution_count": 15,
   "id": "2117cd16",
   "metadata": {},
   "outputs": [
    {
     "name": "stdout",
     "output_type": "stream",
     "text": [
      "['Tropical fish', 'fish are', 'those fish', 'fish found', 'aquatic tropical', 'tropical environments', 'both freshwater', 'freshwater and', 'and saltwater', 'saltwater species', 'keep tropical', 'tropical fish', 'fish in', 'in freshwater', 'freshwater and', 'and saltwater', 'saltwater aquariums']\n",
      "['Tropical fish are', 'fish are generally', 'generally those fish', 'those fish found', 'fish found in', 'in aquatic tropical', 'aquatic tropical environments', 'tropical environments around', 'including both freshwater', 'both freshwater and', 'freshwater and saltwater', 'and saltwater species', 'saltwater species Fishkeepers', 'often keep tropical', 'keep tropical fish', 'tropical fish in', 'fish in freshwater', 'in freshwater and', 'freshwater and saltwater', 'and saltwater aquariums']\n"
     ]
    }
   ],
   "source": [
    "import string\n",
    "\n",
    "def is_highlight(gram, keywords):\n",
    "    x = False\n",
    "    for y in keywords:\n",
    "        if y in gram:\n",
    "            x = True\n",
    "    return x\n",
    "\n",
    "line =\"Tropical fish are generally those fish found in aquatic tropical environments around the world, \\\n",
    "including both freshwater and saltwater species. Fishkeepers often keep tropical fish in freshwater and \\\n",
    "saltwater aquariums.\"\n",
    "\n",
    "line = line.translate(str.maketrans('','', string.digits)).translate(str.maketrans(string.punctuation, \\\n",
    "                                                                                   ' '*len(string.punctuation)))\n",
    "words=line.split()\n",
    "stems = words\n",
    "bigrams = [stems[i]+' '+stems[i+1] for i in range(len(stems)-1)]\n",
    "trigrams = [stems[i]+' '+stems[i+1]+' '+stems[i+2] for i in range(len(stems)-2)]\n",
    "\n",
    "keywords = ['fish', 'tropical', 'freshwater', 'saltwater', 'aquariums']\n",
    "\n",
    "bigrams1 = [gram for gram in bigrams if is_highlight(gram, keywords)]\n",
    "trigrams1 = [gram for gram in trigrams if is_highlight(gram, keywords)]\n",
    "print(bigrams1)\n",
    "print(trigrams1)"
   ]
  },
  {
   "cell_type": "markdown",
   "id": "c8d4e945",
   "metadata": {},
   "source": [
    "### Question 4 (Markov chain - optional) \n",
    "(3) Design a function to forecast the state after k days. For example, you may assume the start state is ‘Sleep’. You can also the “numpy.random.choice” to generate a random sample from the set of transitions for each day."
   ]
  },
  {
   "cell_type": "code",
   "execution_count": 16,
   "id": "9ffa917e",
   "metadata": {},
   "outputs": [],
   "source": [
    "import numpy as np\n",
    "import random as rm"
   ]
  },
  {
   "cell_type": "code",
   "execution_count": 17,
   "id": "495dec4d",
   "metadata": {},
   "outputs": [],
   "source": [
    "# The statespace\n",
    "states = [\"Sleep\",\"Icecream\",\"Run\"]\n",
    "# Possible sequences of events\n",
    "transitionName = [[\"SS\",\"SR\",\"SI\"],[\"RS\",\"RR\",\"RI\"],[\"IS\",\"IR\",\"II\"]]\n",
    "# Probabilities matrix (transition matrix)\n",
    "transitionMatrix = [[0.2,0.6,0.2],[0.1,0.6,0.3],[0.2,0.7,0.1]]"
   ]
  },
  {
   "cell_type": "code",
   "execution_count": 18,
   "id": "1f6e6303",
   "metadata": {},
   "outputs": [
    {
     "name": "stdout",
     "output_type": "stream",
     "text": [
      "All is gonna be okay, you should move on!! ;)\n"
     ]
    }
   ],
   "source": [
    "if sum(transitionMatrix[0])+sum(transitionMatrix[1])+sum(transitionMatrix[1]) != 3:\n",
    "    print(\"Somewhere, something went wrong. Transition matrix, perhaps?\")\n",
    "else: print(\"All is gonna be okay, you should move on!! ;)\")"
   ]
  },
  {
   "cell_type": "code",
   "execution_count": 19,
   "id": "29eff2eb",
   "metadata": {},
   "outputs": [
    {
     "name": "stdout",
     "output_type": "stream",
     "text": [
      "Start state: Sleep\n",
      "Possible states: ['Sleep', 'Icecream', 'Run']\n",
      "End state after 2 days: Run\n",
      "Probability of the possible sequence of states: 0.13999999999999999\n"
     ]
    }
   ],
   "source": [
    "# A function that implements the Markov model to forecast the state/mood.\n",
    "# You will use the numpy.random.choice to generate a random sample from the set of transitions possible.\n",
    "def activity_forecast(days):\n",
    "    # Choose the starting state\n",
    "    activityToday = \"Sleep\"\n",
    "    print(\"Start state: \" + activityToday)\n",
    "    # Shall store the sequence of states taken. So, this only has the starting state for now.\n",
    "    activityList = [activityToday]\n",
    "    i = 0\n",
    "    # To calculate the probability of the activityList\n",
    "    prob = 1\n",
    "    while i != days:\n",
    "        if activityToday == \"Sleep\":\n",
    "            change = np.random.choice(transitionName[0],replace=True,p=transitionMatrix[0])\n",
    "            if change == \"SS\":\n",
    "                prob = prob * 0.2\n",
    "                activityList.append(\"Sleep\")\n",
    "                pass\n",
    "            elif change == \"SR\":\n",
    "                prob = prob * 0.6\n",
    "                activityToday = \"Run\"\n",
    "                activityList.append(\"Run\")\n",
    "            else:\n",
    "                prob = prob * 0.2\n",
    "                activityToday = \"Icecream\"\n",
    "                activityList.append(\"Icecream\")\n",
    "        elif activityToday == \"Run\":\n",
    "            change = np.random.choice(transitionName[1],replace=True,p=transitionMatrix[1])\n",
    "            if change == \"RR\":\n",
    "                prob = prob * 0.5\n",
    "                activityList.append(\"Run\")\n",
    "                pass\n",
    "            elif change == \"RS\":\n",
    "                prob = prob * 0.2\n",
    "                activityToday = \"Sleep\"\n",
    "                activityList.append(\"Sleep\")\n",
    "            else:\n",
    "                prob = prob * 0.3\n",
    "                activityToday = \"Icecream\"\n",
    "                activityList.append(\"Icecream\")\n",
    "        elif activityToday == \"Icecream\":\n",
    "            change = np.random.choice(transitionName[2],replace=True,p=transitionMatrix[2])\n",
    "            if change == \"II\":\n",
    "                prob = prob * 0.1\n",
    "                activityList.append(\"Icecream\")\n",
    "                pass\n",
    "            elif change == \"IS\":\n",
    "                prob = prob * 0.2\n",
    "                activityToday = \"Sleep\"\n",
    "                activityList.append(\"Sleep\")\n",
    "            else:\n",
    "                prob = prob * 0.7\n",
    "                activityToday = \"Run\"\n",
    "                activityList.append(\"Run\")\n",
    "        i += 1  \n",
    "    print(\"Possible states: \" + str(activityList))\n",
    "    print(\"End state after \"+ str(days) + \" days: \" + activityToday)\n",
    "    print(\"Probability of the possible sequence of states: \" + str(prob))\n",
    "\n",
    "# Function that forecasts the possible state for the next 2 days\n",
    "activity_forecast(2)"
   ]
  },
  {
   "cell_type": "code",
   "execution_count": 20,
   "id": "64bc7e8e",
   "metadata": {},
   "outputs": [
    {
     "name": "stdout",
     "output_type": "stream",
     "text": [
      "The probability of starting at state:'Sleep' and ending at state:'Run'= 61.78%\n"
     ]
    }
   ],
   "source": [
    "# the above function get a random set of transitions possible along with the probability of it happening, \n",
    "# starting from state: Sleep.\n",
    "\n",
    "# Extend the program further to maybe iterate it for a couple of hundred times with the same starting state, \n",
    "# you can then see the expected probability of ending at any particular state along with its probability.\n",
    "\n",
    "def activity_forecast(days):\n",
    "    # Choose the starting state\n",
    "    activityToday = \"Sleep\"\n",
    "    activityList = [activityToday]\n",
    "    i = 0\n",
    "    prob = 1\n",
    "    while i != days:\n",
    "        if activityToday == \"Sleep\":\n",
    "            change = np.random.choice(transitionName[0],replace=True,p=transitionMatrix[0])\n",
    "            if change == \"SS\":\n",
    "                prob = prob * 0.2\n",
    "                activityList.append(\"Sleep\")\n",
    "                pass\n",
    "            elif change == \"SR\":\n",
    "                prob = prob * 0.6\n",
    "                activityToday = \"Run\"\n",
    "                activityList.append(\"Run\")\n",
    "            else:\n",
    "                prob = prob * 0.2\n",
    "                activityToday = \"Icecream\"\n",
    "                activityList.append(\"Icecream\")\n",
    "        elif activityToday == \"Run\":\n",
    "            change = np.random.choice(transitionName[1],replace=True,p=transitionMatrix[1])\n",
    "            if change == \"RR\":\n",
    "                prob = prob * 0.5\n",
    "                activityList.append(\"Run\")\n",
    "                pass\n",
    "            elif change == \"RS\":\n",
    "                prob = prob * 0.2\n",
    "                activityToday = \"Sleep\"\n",
    "                activityList.append(\"Sleep\")\n",
    "            else:\n",
    "                prob = prob * 0.3\n",
    "                activityToday = \"Icecream\"\n",
    "                activityList.append(\"Icecream\")\n",
    "        elif activityToday == \"Icecream\":\n",
    "            change = np.random.choice(transitionName[2],replace=True,p=transitionMatrix[2])\n",
    "            if change == \"II\":\n",
    "                prob = prob * 0.1\n",
    "                activityList.append(\"Icecream\")\n",
    "                pass\n",
    "            elif change == \"IS\":\n",
    "                prob = prob * 0.2\n",
    "                activityToday = \"Sleep\"\n",
    "                activityList.append(\"Sleep\")\n",
    "            else:\n",
    "                prob = prob * 0.7\n",
    "                activityToday = \"Run\"\n",
    "                activityList.append(\"Run\")\n",
    "        i += 1    \n",
    "    return activityList\n",
    "\n",
    "# To save every activityList\n",
    "list_activity = []\n",
    "count = 0\n",
    "\n",
    "# `Range` starts from the first count up until but excluding the last count\n",
    "for iterations in range(1,10000):\n",
    "        list_activity.append(activity_forecast(2))\n",
    "\n",
    "# Check out all the `activityList` we collected    \n",
    "#print(list_activity)\n",
    "\n",
    "# Iterate through the list to get a count of all activities ending in state:'Run'\n",
    "for smaller_list in list_activity:\n",
    "    if(smaller_list[2] == \"Run\"):\n",
    "        count += 1\n",
    "\n",
    "# Calculate the probability of starting from state:'Sleep' and ending at state:'Run'\n",
    "percentage = (count/10000) * 100\n",
    "print(\"The probability of starting at state:'Sleep' and ending at state:'Run'= \" + str(percentage) + \"%\")"
   ]
  },
  {
   "cell_type": "markdown",
   "id": "761714aa",
   "metadata": {},
   "source": [
    "### Question 5 (optional)\n",
    "Viterbi algorithm\n",
    "https://en.wikipedia.org/wiki/Viterbi_algorithm"
   ]
  },
  {
   "cell_type": "markdown",
   "id": "cfee6749",
   "metadata": {},
   "source": [
    "The observations (normal, cold, dizzy) along with a hidden state (healthy, fever) form a hidden Markov model (HMM)."
   ]
  },
  {
   "cell_type": "code",
   "execution_count": 7,
   "id": "b3165490",
   "metadata": {},
   "outputs": [],
   "source": [
    "obs = (\"normal\", \"cold\", \"dizzy\")\n",
    "states = (\"Healthy\", \"Fever\")\n",
    "start_pi = {\"Healthy\": 0.6, \"Fever\": 0.4}\n",
    "trans_A = {\n",
    "    \"Healthy\": {\"Healthy\": 0.7, \"Fever\": 0.3},\n",
    "    \"Fever\": {\"Healthy\": 0.4, \"Fever\": 0.6},\n",
    "}\n",
    "emit_B = {\n",
    "    \"Healthy\": {\"normal\": 0.5, \"cold\": 0.4, \"dizzy\": 0.1},\n",
    "    \"Fever\": {\"normal\": 0.1, \"cold\": 0.3, \"dizzy\": 0.6},\n",
    "}"
   ]
  },
  {
   "cell_type": "code",
   "execution_count": 8,
   "id": "3503d6b1",
   "metadata": {},
   "outputs": [],
   "source": [
    "def viterbi(obs, states, start_p, trans_p, emit_p):\n",
    "    V = [{}]\n",
    "    for st in states:\n",
    "        V[0] [st] = {\"prob\": start_p[st] * emit_p[st] [obs[0]], \"prev\": None}\n",
    "    # Run Viterbi when t > 0\n",
    "    for t in range(1, len(obs)):\n",
    "        V.append({})\n",
    "        for st in states:\n",
    "            max_tr_prob = V[t - 1] [states[0]] [\"prob\"] * trans_p[states[0]] [st]\n",
    "            prev_st_selected = states[0]\n",
    "            for prev_st in states[1:]:\n",
    "                tr_prob = V[t - 1] [prev_st] [\"prob\"] * trans_p[prev_st] [st]\n",
    "                if tr_prob > max_tr_prob:\n",
    "                    max_tr_prob = tr_prob\n",
    "                    prev_st_selected = prev_st\n",
    "\n",
    "            max_prob = max_tr_prob * emit_p[st] [obs[t]]\n",
    "            V[t] [st] = {\"prob\": max_prob, \"prev\": prev_st_selected}\n",
    "\n",
    "    for line in dptable(V):\n",
    "        print(line)\n",
    "\n",
    "    opt = []\n",
    "    max_prob = 0.0\n",
    "    best_st = None\n",
    "    # Get most probable state and its backtrack\n",
    "    for st, data in V[-1].items():\n",
    "        if data[\"prob\"] > max_prob:\n",
    "            max_prob = data[\"prob\"]\n",
    "            best_st = st\n",
    "    opt.append(best_st)\n",
    "    previous = best_st\n",
    "\n",
    "    # Follow the backtrack till the first observation\n",
    "    for t in range(len(V) - 2, -1, -1):\n",
    "        opt.insert(0, V[t + 1] [previous] [\"prev\"])\n",
    "        previous = V[t + 1] [previous] [\"prev\"]\n",
    "\n",
    "    print (\"The steps of states are \" + \" \".join(opt) + \" with highest probability of %s\" % max_prob)"
   ]
  },
  {
   "cell_type": "code",
   "execution_count": 31,
   "id": "d0c9f0d0",
   "metadata": {},
   "outputs": [],
   "source": [
    "def dptable(V):\n",
    "    # Print a table of steps from dictionary\n",
    "    yield \" \" * 7 + \"     \".join((\"%3d\" % i for i in range(1, len(V)+1)))\n",
    "    for state in V[0]:\n",
    "        yield \"%.7s: \" % state + \" \".join(\"%.7s\" % (\"%lf\" % v[state] [\"prob\"]) for v in V)"
   ]
  },
  {
   "cell_type": "code",
   "execution_count": 32,
   "id": "32da4780",
   "metadata": {},
   "outputs": [
    {
     "name": "stdout",
     "output_type": "stream",
     "text": [
      "         1       2       3\n",
      "Healthy: 0.30000 0.08400 0.00588\n",
      "Fever: 0.04000 0.02700 0.01512\n",
      "The steps of states are Healthy Healthy Fever with highest probability of 0.01512\n"
     ]
    }
   ],
   "source": [
    "viterbi(obs,\n",
    "        states,\n",
    "        start_pi,\n",
    "        trans_A,\n",
    "        emit_B)"
   ]
  },
  {
   "cell_type": "markdown",
   "id": "5cca0b69",
   "metadata": {},
   "source": [
    "This reveals that the observations ['normal', 'cold', 'dizzy'] were most likely generated by states ['Healthy', 'Healthy', 'Fever']"
   ]
  },
  {
   "cell_type": "markdown",
   "id": "5115633a",
   "metadata": {},
   "source": [
    "### Question 6. \n",
    "Design a python program to extract all hyperlinks in a html file. You may use HTMLParser.\n"
   ]
  },
  {
   "cell_type": "code",
   "execution_count": 39,
   "id": "fa7d0ed8",
   "metadata": {},
   "outputs": [
    {
     "name": "stdout",
     "output_type": "stream",
     "text": [
      "['/wiki/Fish', '/wiki/Tropics', '/wiki/Fresh_water', '/wiki/Sea_water', '/wiki/Fishkeeping', '/wiki/List_of_marine_aquarium_fish_species', '/wiki/Aquarium', '/wiki/Iridescence', '/wiki/Pigment']\n"
     ]
    }
   ],
   "source": [
    "from html.parser import HTMLParser\n",
    "class Parser(HTMLParser):\n",
    "  # method to append the start tag to the list start_tags.\n",
    "  def handle_starttag(self, tag, attrs):\n",
    "    global start_tags\n",
    "    global attrs_names\n",
    "    if tag=='a':\n",
    "        start_tags.append(tag)\n",
    "        attrs_names.append(attrs)   \n",
    "start_tags = []\n",
    "attrs_names = []\n",
    "# Creating an instance of our class.\n",
    "parser = Parser()\n",
    "\n",
    "# open a html file\n",
    "myHtml=open('html_example.html')\n",
    "file_html=myHtml.read()\n",
    "    \n",
    "# Poviding the input.\n",
    "parser.feed(file_html)\n",
    "#print(\"start tags:\", start_tags)\n",
    "#print(\"attributes:\", attrs_names)\n",
    "hyper_links = [x[0][1] for x in attrs_names]\n",
    "print(hyper_links)\n",
    "myHtml.close()"
   ]
  },
  {
   "cell_type": "code",
   "execution_count": null,
   "id": "94c6bb03",
   "metadata": {},
   "outputs": [],
   "source": []
  }
 ],
 "metadata": {
  "kernelspec": {
   "display_name": "Python 3",
   "language": "python",
   "name": "python3"
  },
  "language_info": {
   "codemirror_mode": {
    "name": "ipython",
    "version": 3
   },
   "file_extension": ".py",
   "mimetype": "text/x-python",
   "name": "python",
   "nbconvert_exporter": "python",
   "pygments_lexer": "ipython3",
   "version": "3.8.8"
  }
 },
 "nbformat": 4,
 "nbformat_minor": 5
}
