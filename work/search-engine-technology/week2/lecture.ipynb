{
 "cells": [
  {
   "cell_type": "code",
   "execution_count": 1,
   "metadata": {},
   "outputs": [],
   "source": [
    "import string"
   ]
  },
  {
   "cell_type": "code",
   "execution_count": 16,
   "metadata": {},
   "outputs": [
    {
     "data": {
      "text/plain": [
       "[0, 1]"
      ]
     },
     "execution_count": 16,
     "metadata": {},
     "output_type": "execute_result"
    }
   ],
   "source": [
    "list(range(2))"
   ]
  },
  {
   "cell_type": "code",
   "execution_count": 30,
   "metadata": {},
   "outputs": [
    {
     "data": {
      "text/plain": [
       "['Tropical fish',\n",
       " 'fish are',\n",
       " 'those fish',\n",
       " 'fish found',\n",
       " 'aquatic tropical',\n",
       " 'tropical environments',\n",
       " 'both freshwater',\n",
       " 'freshwater and',\n",
       " 'and saltwater',\n",
       " 'saltwater species',\n",
       " 'keep tropical',\n",
       " 'tropical fish',\n",
       " 'fish in',\n",
       " 'in freshwater',\n",
       " 'freshwater and',\n",
       " 'and saltwater',\n",
       " 'saltwater aquariums']"
      ]
     },
     "execution_count": 30,
     "metadata": {},
     "output_type": "execute_result"
    }
   ],
   "source": [
    "def is_highlight(gram, keywords):\n",
    "    x = False\n",
    "    for y in keywords:\n",
    "        if y in gram:\n",
    "            x = True\n",
    "    return x\n",
    "\n",
    "def get_n_grams(n, words):\n",
    "    grams = []\n",
    "    for i in range(len(words) - n +1):\n",
    "        gram = []\n",
    "        for j in range(n ):\n",
    "            gram.append (words[i+j])\n",
    "        grams.append(\" \".join(gram))\n",
    "    return grams\n",
    "\n",
    "line = \"\"\"Tropical fish are generally those fish found in aquatic tropical environments around the \n",
    "world, including both freshwater and saltwater species. Fishkeepers often keep tropical\n",
    "fish in freshwater and saltwater aquariums. \n",
    "\"\"\"\n",
    "\n",
    "line = line.translate(str.maketrans('','', string.digits)).translate(str.maketrans(string.punctuation, ' '* len(string.punctuation)))\n",
    "\n",
    "words = line.split()\n",
    "bi_grams = get_n_grams(2, words)\n",
    "tri_grams = get_n_grams(3, words)\n",
    "\n",
    "keywords = ['fish','tropical','freshwater','saltwater','aquariums']\n",
    "\n",
    "[gram for gram in bi_grams if is_highlight(gram, keywords)]"
   ]
  },
  {
   "cell_type": "code",
   "execution_count": 4,
   "metadata": {},
   "outputs": [
    {
     "data": {
      "text/plain": [
       "{97: 100, 98: 101, 99: 102}"
      ]
     },
     "execution_count": 4,
     "metadata": {},
     "output_type": "execute_result"
    }
   ],
   "source": [
    "first_s = \"abc\"\n",
    "second_s = \"def\"\n",
    "s = \"abc\"\n",
    "\n",
    "s.maketrans(first_s, second_s)"
   ]
  },
  {
   "cell_type": "code",
   "execution_count": 7,
   "metadata": {},
   "outputs": [
    {
     "data": {
      "text/plain": [
       "'xiaohaiawdjklawjd'"
      ]
     },
     "execution_count": 7,
     "metadata": {},
     "output_type": "execute_result"
    }
   ],
   "source": [
    "my_str = \"123124123xiaohai6666awdjklawjd\"\n",
    "translation_table = str.maketrans(\"\",\"\",string.digits)\n",
    "my_str.translate(translation_table)"
   ]
  },
  {
   "cell_type": "code",
   "execution_count": 8,
   "metadata": {},
   "outputs": [
    {
     "data": {
      "text/plain": [
       "{33: 32,\n",
       " 34: 32,\n",
       " 35: 32,\n",
       " 36: 32,\n",
       " 37: 32,\n",
       " 38: 32,\n",
       " 39: 32,\n",
       " 40: 32,\n",
       " 41: 32,\n",
       " 42: 32,\n",
       " 43: 32,\n",
       " 44: 32,\n",
       " 45: 32,\n",
       " 46: 32,\n",
       " 47: 32,\n",
       " 58: 32,\n",
       " 59: 32,\n",
       " 60: 32,\n",
       " 61: 32,\n",
       " 62: 32,\n",
       " 63: 32,\n",
       " 64: 32,\n",
       " 91: 32,\n",
       " 92: 32,\n",
       " 93: 32,\n",
       " 94: 32,\n",
       " 95: 32,\n",
       " 96: 32,\n",
       " 123: 32,\n",
       " 124: 32,\n",
       " 125: 32,\n",
       " 126: 32}"
      ]
     },
     "execution_count": 8,
     "metadata": {},
     "output_type": "execute_result"
    }
   ],
   "source": [
    "str.maketrans(string.punctuation, \" \"* len(string.punctuation))"
   ]
  },
  {
   "cell_type": "code",
   "execution_count": 11,
   "metadata": {},
   "outputs": [
    {
     "data": {
      "text/plain": [
       "'33'"
      ]
     },
     "execution_count": 11,
     "metadata": {},
     "output_type": "execute_result"
    }
   ],
   "source": [
    "str(u'33')"
   ]
  },
  {
   "cell_type": "code",
   "execution_count": null,
   "metadata": {},
   "outputs": [],
   "source": []
  }
 ],
 "metadata": {
  "interpreter": {
   "hash": "12328a4b23be1c7cec08b06706c715be0163e3764006085465cbbe8cea75b2e4"
  },
  "kernelspec": {
   "display_name": "Python 3.9.5 ('cab420-env')",
   "language": "python",
   "name": "python3"
  },
  "language_info": {
   "codemirror_mode": {
    "name": "ipython",
    "version": 3
   },
   "file_extension": ".py",
   "mimetype": "text/x-python",
   "name": "python",
   "nbconvert_exporter": "python",
   "pygments_lexer": "ipython3",
   "version": "3.9.5"
  },
  "orig_nbformat": 4
 },
 "nbformat": 4,
 "nbformat_minor": 2
}
