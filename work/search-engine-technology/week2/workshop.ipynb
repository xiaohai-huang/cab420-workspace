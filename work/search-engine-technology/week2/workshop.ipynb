{
 "cells": [
  {
   "cell_type": "markdown",
   "metadata": {},
   "source": [
    "Write a program that loads (read) an XML document and prints out the itemid\n",
    "and the number of words in < text > of the document"
   ]
  },
  {
   "cell_type": "code",
   "execution_count": 17,
   "metadata": {},
   "outputs": [],
   "source": [
    "xml_file = open(\"./h.xml\")\n",
    "s = xml_file.read()\n"
   ]
  },
  {
   "cell_type": "code",
   "execution_count": 3,
   "metadata": {},
   "outputs": [],
   "source": [
    "import xml.etree.ElementTree as ET\n",
    "mytree = ET.parse('h.xml')\n",
    "myroot = mytree.getroot()"
   ]
  },
  {
   "cell_type": "code",
   "execution_count": 4,
   "metadata": {},
   "outputs": [
    {
     "data": {
      "text/plain": [
       "<Element 'newsitem' at 0x7f99911e2ae0>"
      ]
     },
     "execution_count": 4,
     "metadata": {},
     "output_type": "execute_result"
    }
   ],
   "source": []
  },
  {
   "cell_type": "code",
   "execution_count": 5,
   "metadata": {},
   "outputs": [
    {
     "data": {
      "text/plain": [
       "'741299'"
      ]
     },
     "execution_count": 5,
     "metadata": {},
     "output_type": "execute_result"
    }
   ],
   "source": [
    "myroot.get(\"itemid\")"
   ]
  },
  {
   "cell_type": "code",
   "execution_count": 18,
   "metadata": {},
   "outputs": [
    {
     "name": "stdout",
     "output_type": "stream",
     "text": [
      "J.J. Lehto of Finland and Steve Soper of Britain drove their ailing McLaren to victory in the fifth round of the world GT championship on Sunday, beating the Mercedes of German Bernd Schneider and Austrian Alexander Wurz by 15 seconds.\n",
      "Their victory enabled them to open up a 16-point lead in the overall standings over Schneider, who mounted a strong challenge on the struggling leaders in the final minutes of the four-hour race.\n",
      "But Soper, struggling with the car's handling caused by a broken undertray, just managed to hold on for the win.\n",
      "Lehto had opened up a lead of over 90 seconds during a mid-race downpour in the Ardennes mountains.\n",
      "\"I thought that everyone else was driving on dry-weather tyres,\" he joked afterwards.\n",
      "\"We swapped to rain tyres at exactly the right time and I was able to push hard and open up a big lead.\"\n",
      "Third to finish was the Porsche of France's Bob Wollek and Yannick Dalmas and Belgian Thierry Boutsen.\n",
      "The Belgian, a former Formula One driver, switched from the car he normally shares with German Hans Stuck following a power-steering failure on his own car.\n"
     ]
    },
    {
     "data": {
      "text/plain": [
       "190"
      ]
     },
     "execution_count": 18,
     "metadata": {},
     "output_type": "execute_result"
    }
   ],
   "source": [
    "num_words = 0\n",
    "for e in myroot.find(\"text\"):\n",
    "    print(e.text)\n",
    "    num_words += len(e.text.split(\" \"))\n",
    "num_words"
   ]
  },
  {
   "cell_type": "markdown",
   "metadata": {},
   "source": [
    "A consensus string x is a string of length n formed from a collection by taking the most \n",
    "common symbol at each position; the j\n",
    "th symbol of x therefore corresponds to the symbol \n",
    "having the maximum value in the j\n",
    "th column of the profile matrix. Of course, there may \n",
    "be more than one most common symbol, leading to multiple possible consensus strings"
   ]
  },
  {
   "cell_type": "code",
   "execution_count": 116,
   "metadata": {},
   "outputs": [],
   "source": [
    "import numpy as np\n",
    "DNA = list(\"ACGT\")\n",
    "\n",
    "def pre_process(file_path):\n",
    "    seq_1 = open(file_path).read()\n",
    "    seq_1.split(\"\\n\")\n",
    "    def f(row:str)->bool:\n",
    "        return not row.startswith(\">\")\n",
    "    dna_strings = list(filter(f, seq_1.split(\"\\n\")))\n",
    "    data = []\n",
    "    num_columns = len(dna_strings[0])\n",
    "    for row in dna_strings:\n",
    "        new_list = list(row)\n",
    "        data.append(new_list+['[EMPTY]'] * (num_columns - len(new_list)))\n",
    "\n",
    "    array = np.array([np.array(l) for l in  data], dtype=object)\n",
    "    \n",
    "    return array"
   ]
  },
  {
   "cell_type": "code",
   "execution_count": 117,
   "metadata": {},
   "outputs": [
    {
     "data": {
      "text/plain": [
       "(7, 9)"
      ]
     },
     "execution_count": 117,
     "metadata": {},
     "output_type": "execute_result"
    }
   ],
   "source": [
    "seq_1 = pre_process(\"seq1.txt\")\n",
    "seq_1.shape\n",
    "\n"
   ]
  },
  {
   "cell_type": "code",
   "execution_count": 118,
   "metadata": {},
   "outputs": [
    {
     "data": {
      "text/plain": [
       "array([[5, 1, 0, 0, 5, 5, 0, 0, 0],\n",
       "       [0, 0, 1, 4, 2, 0, 6, 1, 0],\n",
       "       [1, 1, 6, 3, 0, 1, 0, 0, 4],\n",
       "       [1, 5, 0, 0, 0, 1, 1, 6, 3]], dtype=int32)"
      ]
     },
     "execution_count": 118,
     "metadata": {},
     "output_type": "execute_result"
    }
   ],
   "source": [
    "def get_profile_matrix(data):\n",
    "    P = np.ones( (len(DNA), data.shape[1]), dtype=np.int32)\n",
    "    for i, alphbetics in enumerate(DNA):\n",
    "        P[i:]=np.sum( data == alphbetics, axis=0)\n",
    "\n",
    "    return P\n",
    "\n",
    "P = get_profile_matrix(seq_1)\n",
    "P"
   ]
  },
  {
   "cell_type": "code",
   "execution_count": 119,
   "metadata": {},
   "outputs": [
    {
     "name": "stdout",
     "output_type": "stream",
     "text": [
      "[0 3 2 1 0 0 1 3 2]\n"
     ]
    },
    {
     "data": {
      "text/plain": [
       "'ATGCAACTG'"
      ]
     },
     "execution_count": 119,
     "metadata": {},
     "output_type": "execute_result"
    }
   ],
   "source": [
    "def get_consensus_string(P:np.ndarray):\n",
    "    s = \"\"\n",
    "    max_indics = np.argmax(P,axis=0)\n",
    "    print(max_indics)\n",
    "    for i in max_indics:\n",
    "        s += DNA[i]\n",
    "    return s\n",
    "\n",
    "get_consensus_string(P)"
   ]
  },
  {
   "cell_type": "code",
   "execution_count": 121,
   "metadata": {},
   "outputs": [
    {
     "name": "stdout",
     "output_type": "stream",
     "text": [
      "(7, 9)\n",
      "[0 3 2 1 0 0 1 3 2]\n"
     ]
    },
    {
     "data": {
      "text/plain": [
       "'ATGCAACTG'"
      ]
     },
     "execution_count": 121,
     "metadata": {},
     "output_type": "execute_result"
    }
   ],
   "source": [
    "def compute_consensus_string(file_path):\n",
    "    seq = pre_process(file_path)\n",
    "    print(seq.shape)\n",
    "    P = get_profile_matrix(seq)\n",
    "    s = get_consensus_string(P)\n",
    "    return s\n",
    "\n",
    "compute_consensus_string(\"seq1.txt\")\n",
    "    "
   ]
  },
  {
   "cell_type": "code",
   "execution_count": 122,
   "metadata": {},
   "outputs": [
    {
     "name": "stdout",
     "output_type": "stream",
     "text": [
      "(160, 60)\n",
      "[3 1 3 0 3 1 0 2 2 3 3 1 3 2 2 3 0 0 3 2 0 2 2 3 0 2 2 0 1 0 2 3 2 3 1 3 2\n",
      " 2 2 1 3 3 2 3 3 3 0 1 2 0 3 1 0 1 3 2 1 0 2 2]\n"
     ]
    },
    {
     "data": {
      "text/plain": [
       "'TCTATCAGGTTCTGGTAATGAGGTAGGACAGTGTCTGGGCTTGTTTACGATCACTGCAGG'"
      ]
     },
     "execution_count": 122,
     "metadata": {},
     "output_type": "execute_result"
    }
   ],
   "source": [
    "compute_consensus_string(\"seq3.txt\")\n"
   ]
  },
  {
   "cell_type": "code",
   "execution_count": null,
   "metadata": {},
   "outputs": [],
   "source": []
  }
 ],
 "metadata": {
  "interpreter": {
   "hash": "12328a4b23be1c7cec08b06706c715be0163e3764006085465cbbe8cea75b2e4"
  },
  "kernelspec": {
   "display_name": "Python 3.9.5 ('cab420-env')",
   "language": "python",
   "name": "python3"
  },
  "language_info": {
   "codemirror_mode": {
    "name": "ipython",
    "version": 3
   },
   "file_extension": ".py",
   "mimetype": "text/x-python",
   "name": "python",
   "nbconvert_exporter": "python",
   "pygments_lexer": "ipython3",
   "version": "3.9.5"
  },
  "orig_nbformat": 4
 },
 "nbformat": 4,
 "nbformat_minor": 2
}
