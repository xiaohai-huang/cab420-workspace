{
 "cells": [
  {
   "cell_type": "markdown",
   "id": "655a31a0",
   "metadata": {},
   "source": [
    "\n",
    "\n",
    "# CAB431 Week 2 Solutions\n",
    "Written by Professor Yuefeng Li (y2.li@qut.edu.au). All rights reserved."
   ]
  },
  {
   "cell_type": "markdown",
   "id": "27be35bd",
   "metadata": {},
   "source": [
    "## Task 2: \n",
    "Write a program that loads (read) an XML document, and prints out the itemid and the number of words in <text> of the document."
   ]
  },
  {
   "cell_type": "code",
   "execution_count": 5,
   "id": "e18c1038",
   "metadata": {},
   "outputs": [
    {
     "name": "stdout",
     "output_type": "stream",
     "text": [
      "J.J. Lehto of Finland and Steve Soper of Britain drove their ailing McLaren to victory in the fifth round of the world GT championship on Sunday, beating the Mercedes of German Bernd Schneider and Austrian Alexander Wurz by 15 seconds.\n",
      "Their victory enabled them to open up a 16-point lead in the overall standings over Schneider, who mounted a strong challenge on the struggling leaders in the final minutes of the four-hour race.\n",
      "But Soper, struggling with the car's handling caused by a broken undertray, just managed to hold on for the win.\n",
      "Lehto had opened up a lead of over 90 seconds during a mid-race downpour in the Ardennes mountains.\n",
      "&quot;I thought that everyone else was driving on dry-weather tyres,&quot; he joked afterwards.\n",
      "&quot;We swapped to rain tyres at exactly the right time and I was able to push hard and open up a big lead.&quot;\n",
      "Third to finish was the Porsche of France's Bob Wollek and Yannick Dalmas and Belgian Thierry Boutsen.\n",
      "The Belgian, a former Formula One driver, switched from the car he normally shares with German Hans Stuck following a power-steering failure on his own car.\n",
      "Document itemid: 741299 contains: 199 words\n"
     ]
    }
   ],
   "source": [
    "import string\n",
    "\n",
    "myfile=open('741299newsML.xml', 'r')\n",
    "start_end = False\n",
    "file_=myfile.readlines()\n",
    "word_count = 0 #wk3\n",
    "for line in file_:\n",
    "    line = line.strip()\n",
    "    if(start_end == False):\n",
    "        if line.startswith(\"<newsitem \"):\n",
    "            for part in line.split():\n",
    "                if part.startswith(\"itemid=\"):\n",
    "                    docid = part.split(\"=\")[1].split(\"\\\"\")[1]\n",
    "                    break  \n",
    "        if line.startswith(\"<text>\"):\n",
    "            start_end = True  \n",
    "    elif line.startswith(\"</text>\"):\n",
    "        break\n",
    "    else:\n",
    "        line = line.replace(\"<p>\", \"\").replace(\"</p>\", \"\")\n",
    "        print(line)\n",
    "        line = line.translate(str.maketrans('','', string.digits)).translate(str.maketrans(string.punctuation, ' '*len(string.punctuation)))\n",
    "        for term in line.split():\n",
    "            word_count += 1 #wk3\n",
    "        #print(line)\n",
    "myfile.close()\n",
    "print('Document itemid: '+ docid+ ' contains: '+ str(word_count) + ' words')"
   ]
  },
  {
   "cell_type": "code",
   "execution_count": 6,
   "id": "b5198a56",
   "metadata": {},
   "outputs": [],
   "source": [
    "# This program firstly opens the .XML file and then represents it in a list of lines (strings)\n",
    "# file_\n",
    "# For each line, it firstly gets the 'itemid' by using recognizes tag <newsitem>, and saves it in 'docid'\n",
    "# It uses boolean variable 'start_end' to control the processing for <text> part. \n",
    "## for each line in <text>, it removes <p> and </p> by using .replace method; and then uses .maketrans and .translate \n",
    "## methods to remove digits and punctuations.\n",
    "## It also counts terms (works) in the line by using word_count"
   ]
  },
  {
   "cell_type": "markdown",
   "id": "8fcf5701",
   "metadata": {},
   "source": [
    "## Execises for using  .maketrans and .translate methods\n",
    "\n",
    "You may need to review week 2 lecture notes about the String Methods "
   ]
  },
  {
   "cell_type": "code",
   "execution_count": 8,
   "id": "8f7dcd98",
   "metadata": {},
   "outputs": [
    {
     "name": "stdout",
     "output_type": "stream",
     "text": [
      "Lehto had opened up a lead of over  seconds during a mid race downpour in the Ardennes mountains \n",
      "Lehto had opened up a lead of over 90 seconds during a mid-race downpour in the Ardennes mountains.\n",
      "{48: None, 49: None, 50: None, 51: None, 52: None, 53: None, 54: None, 55: None, 56: None, 57: None}\n",
      "Lehto had opened up a lead of over  seconds during a mid-race downpour in the Ardennes mountains.\n",
      "{33: 32, 34: 32, 35: 32, 36: 32, 37: 32, 38: 32, 39: 32, 40: 32, 41: 32, 42: 32, 43: 32, 44: 32, 45: 32, 46: 32, 47: 32, 58: 32, 59: 32, 60: 32, 61: 32, 62: 32, 63: 32, 64: 32, 91: 32, 92: 32, 93: 32, 94: 32, 95: 32, 96: 32, 123: 32, 124: 32, 125: 32, 126: 32}\n",
      "Lehto had opened up a lead of over  seconds during a mid race downpour in the Ardennes mountains \n"
     ]
    }
   ],
   "source": [
    "line_s1 = \"Lehto had opened up a lead of over 90 seconds during a mid-race downpour in the Ardennes mountains.\"\n",
    "line_s2 = line_s1.translate(str.maketrans('','', string.digits)).translate(str.maketrans(string.punctuation, \\\n",
    "                                                                            ' '*len(string.punctuation)))\n",
    "print(line_s2)\n",
    "print(line_s1)\n",
    "\n",
    "mapping_tbl_digits=line_s1.maketrans('','', string.digits) # Remove digits\n",
    "line_s3 = line_s1.translate(mapping_tbl_digits)\n",
    "print(mapping_tbl_digits)\n",
    "print(line_s3)\n",
    "\n",
    "mapping_tbl_punc=line_s1.maketrans(string.punctuation, ' '*len(string.punctuation)) # Replace punctuation with ' ' \n",
    "print(mapping_tbl_punc)\n",
    "line_s4 = line_s3.translate(mapping_tbl_punc)\n",
    "print(line_s4)"
   ]
  },
  {
   "cell_type": "markdown",
   "id": "acd14d51",
   "metadata": {},
   "source": [
    "## Task 3 (Optional): Design a python solution for generating a consensus string.\n",
    "\n",
    "\n",
    "Define a function `get_seqs(fname)` to open the file fname and read its contents by characters, select all DNA sequences and return a list of DNA sequences.\n"
   ]
  },
  {
   "cell_type": "markdown",
   "id": "008acd48",
   "metadata": {},
   "source": [
    "### read a file and get a list of NA seqs\n",
    "### clean data and separate into id and sequence, save sequences into arrays s"
   ]
  },
  {
   "cell_type": "code",
   "execution_count": 1,
   "id": "d51ceca0",
   "metadata": {},
   "outputs": [],
   "source": [
    "def get_seqs(fname):\n",
    "    with open(fname) as seq:\n",
    "        line=seq.read()\n",
    "        identifier=[]\n",
    "        s=[]\n",
    "        a=line.split('>')\n",
    "        #print(a)\n",
    "        a.remove(a[0])\n",
    "        for i in range(len(a)):\n",
    "            b=a[i].split('\\n',1)\n",
    "            #print(b)\n",
    "            c=b[1].replace('\\n','')\n",
    "            identifier+=[b[0]]\n",
    "            s+=[c]\n",
    "    return(s)"
   ]
  },
  {
   "cell_type": "markdown",
   "id": "60394ddc",
   "metadata": {},
   "source": [
    "### determining sequence consensus"
   ]
  },
  {
   "cell_type": "code",
   "execution_count": 2,
   "id": "b8650ad0",
   "metadata": {},
   "outputs": [],
   "source": [
    "def consensus(s):\n",
    "    #Define output matrix      \n",
    "    P=[[],[],[],[]]\n",
    "    for j in range(4):\n",
    "        P[j]=[0]*len(s[0])\n",
    "    Con=[None]*len(s[0])\n",
    "\n",
    "    #compare list of list based on index and count nucleotides\n",
    "    for x in s:\n",
    "        for i in range(len(x)):\n",
    "            if x[i]=='A':\n",
    "                P[0][i]=P[0][i]+1\n",
    "            elif x[i]=='C':\n",
    "                P[1][i]=P[1][i]+1\n",
    "            elif x[i]=='G':\n",
    "                P[2][i]=P[2][i]+1\n",
    "            elif x[i]=='T':\n",
    "                P[3][i]=P[3][i]+1    \n",
    "                \n",
    "    #Form a consensus\n",
    "    for i in range(len(P[0])):\n",
    "        if P[0][i]>=P[1][i] and P[0][i]>=P[2][i] and P[0][i]>=P[3][i]:\n",
    "            Con[i]='A'\n",
    "        if P[1][i]>=P[0][i] and P[1][i]>=P[2][i] and P[1][i]>=P[3][i]:\n",
    "            Con[i]='C'\n",
    "        if P[2][i]>=P[0][i] and P[2][i]>=P[1][i] and P[2][i]>=P[3][i]:\n",
    "            Con[i]='G'\n",
    "        if P[3][i]>=P[0][i] and P[3][i]>=P[1][i] and P[3][i]>=P[2][i]:\n",
    "            Con[i]='T'\n",
    "    \n",
    "    #Final prop for data\n",
    "    out=''.join(Con)\n",
    "    out+='\\n'\n",
    "\n",
    "    MyDir={'A':P[0], 'C':P[1], 'G':P[2], 'T':P[3]}\n",
    "    for k,i in MyDir.items():\n",
    "        out+=k+': '\n",
    "        out+= ' '.join(str(j) for j in i)\n",
    "        out+='\\n'\n",
    "    return out"
   ]
  },
  {
   "cell_type": "markdown",
   "id": "ac538120",
   "metadata": {},
   "source": [
    "### run the mian program to test it"
   ]
  },
  {
   "cell_type": "code",
   "execution_count": 3,
   "id": "ce32363a",
   "metadata": {},
   "outputs": [
    {
     "name": "stdout",
     "output_type": "stream",
     "text": [
      "ATGCAACTG\n",
      "A: 5 1 0 0 5 5 0 0 0\n",
      "C: 0 0 1 4 2 0 6 1 0\n",
      "G: 1 1 6 3 0 1 0 0 4\n",
      "T: 1 5 0 0 0 1 1 6 3\n",
      "\n"
     ]
    }
   ],
   "source": [
    "import os\n",
    "import sys\n",
    "s1=get_seqs('seq1.txt')\n",
    "#print(s1)\n",
    "print(consensus(s1))"
   ]
  },
  {
   "cell_type": "code",
   "execution_count": 4,
   "id": "a98c650d",
   "metadata": {},
   "outputs": [
    {
     "name": "stdout",
     "output_type": "stream",
     "text": [
      "TTTGCTACTTGGATATATATCGGCCGTCCTCTCGTCAGAGACTTTTTGGGAGCTGTCGTCTCTCTGAAGTTGGTGTGTGACACTAGGTCGCTCGCTTTGGCTGTTTCTGCTGTCTGGAAATAAGGTAGGGTCGGGTAAGTTTCTCCCTTAGGTTTTGTGGTTGCGAAATTCGAAAACATACTTGTATTTGGATGGTCCTTCATATGGTACCTACAGACATTCTCCTTGGTAGCCATGCAGTTTTGTTTGTTCAGACAAGTCGCCTCATCCGTGGAGCACCATGAATTTGTTGAAAGGTCGTTTGTTCTGTTTTCGAGTTAGTTCGGACCTCGCACTCGCGTAGCTCTTCCACCATCCTGTTATGGTAGTTCTGGCTACTACGTAATTCTCAGGCTCGTTTTCCTTTAAGGTTCCGGCTTCCGTCAGGAGGAACACCCGGTATGTAGTCGTGATTATATCCTTTTTTCCTTCCCTTAGGACTTGTATTGACTCTTTCCACGAGGCCAATGTCGGCCACGGCTATTGCGCATGCACGTTAGGCCTTCTGCAGTCTGGGATCGGGGAAATCAGTACTCTACGATTCATGAGTTTCTTGATGGGTCACCCCGGGGCCTTTCAGAAGAATGCTCAAATAAAAGGCTGGTCGTTTATATTGAGAGAGCGAAACGTATCAAACATAGTGTTAAGCTACTTTCGTTCCTTTTTTGTGACCTTTCCTCGTTTCTATAGTATTGGTGGCGTTGTGGGAGTTTTTACGTGGCTGCGCGATATTCCAGTTGCGCGATCTGTATGGTCAGTCGATGCTCATTGTTACCTGAGAGTGCTCGTCAATCCCGCTGTAGGATATTTCGTGTATTTTCGAGTGATGGAGCGTCAAGTTGTAGCCAGGGTTGGTTCGATCTCAACAGTCAGGCATGTTTGCTCTTGATGGCGGTGTTTTTGTCAATTTCTT\n",
      "A: 2 3 3 1 0 2 5 0 3 2 2 4 5 0 4 1 5 3 5 1 3 0 2 3 3 1 3 2 1 3 4 2 3 2 3 2 4 3 4 4 4 3 3 1 3 4 2 1 1 1 7 1 2 3 3 2 3 4 1 3 4 3 1 2 2 4 5 4 2 3 2 2 2 3 2 3 3 1 3 4 4 4 3 3 4 3 2 2 4 2 1 2 2 1 2 3 3 2 2 0 1 0 2 2 3 1 1 2 2 3 2 1 3 2 0 1 2 4 4 4 2 5 5 3 0 1 4 1 2 3 1 3 2 2 1 0 5 5 2 2 2 3 3 3 4 1 2 3 3 5 4 2 3 3 2 1 2 0 2 1 3 2 0 1 1 4 4 5 3 1 1 3 5 4 4 4 3 5 1 6 2 3 4 3 2 4 1 0 2 2 2 4 3 3 3 3 0 4 2 2 1 4 2 4 2 2 3 1 6 2 2 1 4 2 4 2 4 0 5 1 2 4 2 3 2 3 2 3 4 2 4 2 3 1 4 2 3 2 4 0 2 1 3 2 3 2 2 1 0 1 1 1 4 3 4 1 4 4 3 1 2 3 3 3 3 2 4 1 1 3 2 4 1 2 4 3 1 5 3 2 6 2 1 6 4 2 2 0 3 2 3 3 5 4 4 2 0 2 3 3 1 1 3 3 0 2 3 1 0 1 2 3 3 2 3 6 2 1 3 4 2 1 3 2 1 2 4 3 4 0 3 1 3 4 2 2 1 1 3 2 1 4 3 4 2 3 2 2 0 2 4 3 3 4 1 2 1 2 1 2 1 4 1 2 2 2 4 2 4 0 1 3 2 3 3 1 5 2 3 4 2 3 2 4 4 3 1 2 2 4 4 3 2 1 3 3 1 2 1 3 1 3 2 1 2 2 5 4 2 2 1 1 1 1 0 2 2 2 1 3 4 3 3 3 5 1 3 6 3 3 4 4 3 5 0 1 2 3 1 2 5 4 2 1 5 2 1 3 1 1 1 5 2 0 5 1 4 3 2 3 0 3 2 2 4 1 3 2 2 3 0 2 2 2 1 4 1 1 4 4 2 1 1 2 4 2 3 2 5 3 3 1 0 1 3 1 2 5 1 3 4 3 2 1 3 4 4 2 3 2 2 3 2 0 2 4 2 3 2 0 2 5 3 4 2 2 3 4 4 0 1 2 4 2 2 3 1 6 4 3 3 3 3 2 4 1 1 2 6 4 3 3 3 2 2 2 5 2 1 3 3 3 1 4 4 4 1 4 4 3 3 5 3 4 1 3 4 3 1 4 1 3 2 4 2 3 5 2 4 3 3 2 3 3 2 4 1 2 4 2 2 2 5 2 3 2 4 1 3 0 2 0 0 2 2 1 1 4 1 4 4 3 4 6 2 3 3 3 4 4 4 5 2 4 5 5 4 1 3 2 2 3 4 3 3 2 1 0 2 4 2 4 3 1 0 5 3 5 3 6 2 1 3 4 4 5 3 0 3 5 2 3 5 4 4 3 4 3 4 2 1 3 3 1 5 4 1 4 3 4 2 2 2 3 3 2 1 2 2 1 2 0 1 1 1 2 3 3 4 7 3 3 3 4 2 4 0 3 3 1 4 3 3 3 1 4 1 4 0 3 6 3 3 4 2 4 3 4 2 3 1 1 2 1 3 2 1 6 1 3 3 2 1 2 5 1 4 2 3 2 1 1 4 2 2 1 3 4 2 4 3 2 3 2 4 3 1 2 4 3 2 3 2 4 1 2 3 0 2 4 4 1 3 2 1 4 2 4 3 2 4 1 2 2 2 2 4 2 1 3 2 2 4 1 1 3 0 7 2 4 1 3 1 3 0 3 2 1 3 5 4 3 4 1 2 1 1 2 0 1 4 4 2 6 3 4 2 3 2 1 2 1 2 2 4 3 2 3 1 1 3 4 1 3 4 4 1 3 0 6 3 2 3 2 2 4 5 2 1 4 4 4 5 2 1 3 4 1 1 2 2 2 1 3 1 2 3 3 5 1 3 2 2 4 4 2 6 2 3 3 5 2 1 3 4 2 3 0 1 2 3 2 1 3 3 1 1 5 3 2 1 0 1 2 2 2 2 2 2 3 2 1 0 3 5 4 2 1 3 0 2 3\n",
      "C: 3 2 1 4 5 2 2 4 1 0 3 2 2 3 3 3 1 1 2 1 3 3 2 4 4 2 0 4 4 2 4 2 4 1 3 4 3 2 1 1 3 5 1 2 2 2 2 3 1 3 2 0 4 3 2 3 4 1 3 3 1 3 3 4 3 0 3 2 3 0 4 3 1 1 3 2 2 1 3 2 4 2 4 0 2 0 3 3 4 2 5 2 4 2 5 1 0 2 2 3 4 3 3 2 2 2 4 3 2 4 3 2 2 4 4 1 3 3 2 1 3 2 2 2 3 3 2 2 3 2 3 3 2 2 2 2 3 4 2 0 3 1 4 0 4 5 5 1 2 3 1 4 2 1 3 3 1 4 1 2 2 3 3 5 1 3 2 2 3 2 5 2 1 1 2 2 4 2 3 2 4 1 1 1 0 3 3 4 1 2 2 2 0 2 1 2 5 4 2 0 4 2 3 3 3 3 2 3 0 4 4 3 1 4 3 1 0 6 1 2 1 4 0 3 4 1 2 2 1 1 1 3 5 6 3 1 3 6 3 3 3 1 3 2 2 3 2 3 4 1 3 4 3 2 1 5 2 2 2 3 5 2 3 3 2 5 1 2 7 4 1 1 1 3 2 1 4 3 3 4 2 2 2 1 3 2 2 3 2 3 2 3 2 1 2 3 2 1 4 2 2 3 3 2 3 3 4 1 4 0 1 3 1 4 1 2 3 2 3 1 3 3 3 5 3 2 2 4 4 3 3 3 5 3 4 3 5 3 6 3 3 1 2 4 2 4 3 2 4 5 1 4 5 1 3 5 4 3 2 3 3 3 3 1 3 2 1 2 1 3 4 3 3 2 5 2 2 4 2 3 4 0 1 3 2 1 3 4 2 4 3 3 3 5 3 5 3 2 1 3 3 3 5 2 0 2 1 3 3 2 4 2 4 5 3 3 4 1 1 4 4 3 1 6 1 2 2 2 3 2 2 2 5 1 6 5 5 3 3 2 2 1 0 1 3 3 2 4 3 3 4 1 1 4 3 0 3 3 4 4 4 2 1 2 2 2 3 5 2 2 5 6 4 2 2 2 3 1 3 4 3 3 1 1 1 3 3 1 2 3 3 4 3 2 1 5 4 2 5 3 2 2 1 5 4 2 2 3 1 3 5 2 3 5 6 2 4 1 1 6 1 1 2 0 3 4 3 4 3 3 3 5 2 4 1 3 2 1 1 2 4 4 0 3 4 3 3 5 1 1 3 3 2 3 3 2 0 2 5 3 3 3 4 1 3 3 3 5 2 2 2 1 4 0 4 2 1 3 4 1 2 2 4 3 3 2 0 1 1 0 2 4 3 1 3 1 1 2 0 1 2 5 2 5 4 4 4 1 2 2 3 4 6 1 3 1 4 2 2 1 0 2 2 1 2 0 4 3 5 3 0 2 2 1 3 2 2 2 2 5 3 3 2 2 3 3 2 5 1 3 2 2 1 2 3 1 2 3 1 1 1 5 1 3 3 0 4 4 2 0 2 4 1 0 0 4 1 3 2 2 2 3 2 1 2 2 3 4 1 2 4 1 3 3 3 1 2 2 4 5 3 2 3 1 3 1 2 3 1 0 3 3 2 0 3 4 6 1 5 2 1 2 1 3 2 3 4 3 4 2 1 2 2 0 3 1 2 1 4 2 1 3 2 1 2 3 4 1 4 2 1 2 3 3 2 5 1 2 3 3 5 3 1 4 3 5 1 2 2 2 2 1 3 6 3 1 3 3 2 3 2 4 1 2 2 6 2 4 1 2 1 1 3 3 5 2 3 1 4 1 2 3 3 4 1 4 3 3 2 1 2 2 1 5 4 1 3 0 2 2 3 2 1 4 4 4 1 3 3 1 2 2 4 5 4 2 4 4 1 1 2 0 1 0 0 3 4 2 2 4 3 3 2 3 3 1 3 1 2 5 2 3 2 1 2 1 3 1 3 1 0 4 2 1 5 1 1 2 1 2 1 1 2 2 6 4 1 3 4 2 2 2 1 1 2 3 4 1 2 3 4 2 4 2 3 4 2 3 2 4 2 4 2 3 1 1 3 0 0 1 3 4 2 5 2 1 2 1 2 1 3 6 0 3 2 2 2 0 1 1 2 2 3 3 1 1 2 3 3 7 3 3\n",
      "G: 1 2 1 5 3 2 1 3 3 3 4 4 1 3 2 2 2 1 0 4 2 5 4 1 2 6 2 1 2 0 1 2 1 4 0 2 3 3 3 4 2 0 2 3 1 0 2 4 5 4 0 6 2 1 3 2 1 5 1 2 0 2 1 3 1 5 0 1 3 3 0 3 4 2 3 2 3 2 4 1 1 1 2 3 3 4 4 1 1 4 2 3 1 6 1 3 3 3 5 5 2 3 3 2 2 2 3 1 4 2 0 5 2 2 2 6 3 3 1 3 2 2 2 3 4 2 3 5 3 4 3 2 4 4 6 4 0 1 4 3 1 2 2 2 0 2 2 2 1 1 5 4 2 2 1 1 5 2 4 4 2 2 4 1 5 1 2 3 1 3 3 3 3 2 2 3 2 1 2 2 2 1 1 5 2 2 2 2 3 4 4 2 1 3 6 0 2 1 2 3 3 3 1 0 2 3 5 1 2 3 3 3 3 1 3 4 3 3 1 3 2 0 4 2 2 2 3 4 4 1 2 3 1 3 0 3 3 0 1 5 1 4 1 1 3 2 3 2 6 4 2 2 1 3 3 2 1 2 3 1 1 3 2 2 2 2 2 3 2 3 5 1 5 3 3 4 3 2 2 3 0 2 5 2 2 2 2 1 3 2 2 3 2 2 2 3 6 3 2 3 3 3 1 3 1 0 1 4 4 3 0 0 3 1 4 2 3 3 0 3 4 3 1 1 5 4 2 2 0 3 2 5 2 2 2 1 0 4 1 4 3 3 3 1 1 2 2 3 3 1 2 2 0 3 1 2 2 2 5 2 3 1 2 4 4 3 3 4 0 0 3 1 3 3 2 3 0 3 0 1 1 5 3 1 1 1 2 2 3 2 2 3 3 2 1 1 5 3 2 0 3 2 1 2 4 1 0 1 4 5 1 1 2 2 5 4 1 3 3 2 2 3 2 1 3 4 3 2 4 3 1 2 0 3 1 2 0 3 4 3 1 1 5 3 2 4 3 3 5 3 4 0 2 0 1 4 1 1 2 0 2 1 2 2 0 2 2 3 2 2 2 1 3 3 1 1 4 7 2 1 1 3 5 3 2 2 0 4 1 2 1 2 2 2 3 1 2 1 1 3 2 4 5 1 2 1 2 1 4 1 1 3 3 4 1 2 3 5 5 2 3 2 2 2 4 2 3 2 1 3 5 1 3 2 4 1 3 1 4 3 2 2 3 1 1 2 4 1 3 4 1 2 2 3 3 4 1 3 1 3 3 3 4 2 2 1 3 1 3 5 2 1 1 2 3 0 3 2 4 2 2 1 2 1 2 3 3 5 1 2 2 3 1 3 5 3 3 4 4 5 3 1 2 1 1 3 0 5 3 5 3 3 1 3 2 4 2 2 4 3 3 3 2 2 3 4 3 1 0 2 3 2 3 2 1 1 1 5 3 2 0 3 4 1 2 3 3 0 3 1 2 2 1 2 5 3 3 1 4 1 4 1 4 1 2 4 3 4 1 1 1 1 3 3 3 1 3 1 3 5 2 3 2 2 1 3 4 0 3 1 2 2 2 1 2 5 3 0 1 2 2 3 2 2 3 2 3 1 4 2 2 2 2 1 2 0 4 2 2 6 1 1 2 2 3 2 0 1 4 2 1 2 1 5 5 1 3 4 1 4 2 3 4 2 3 3 4 2 4 1 3 2 3 2 2 2 4 2 3 3 1 3 4 3 3 2 4 3 2 2 1 2 2 0 0 5 1 1 4 2 5 2 4 3 2 1 2 6 3 2 0 5 4 2 2 2 3 1 1 4 3 3 3 3 3 2 2 2 3 4 1 2 2 1 2 3 4 1 4 2 5 2 6 0 2 1 4 2 2 2 3 1 2 2 2 5 3 0 8 3 2 5 4 2 3 1 0 2 3 2 3 3 4 2 1 3 1 2 3 2 3 1 4 2 4 3 2 4 4 2 5 2 4 3 1 3 2 4 3 0 4 1 2 6 1 1 3 5 4 5 3 3 5 4 3 1 2 4 1 3 1 3 3 2 1 1 0 4 0 2 3 4 4 2 3 2 3 5 4 2 3 2 2 2 2 2 5 2 2 6 4 3 6 3 3 4 3 3 3 1 0 4 1 2 2 3 2 2 0 3 2 1\n",
      "T: 4 3 5 0 2 4 2 3 3 5 1 0 2 4 1 4 2 5 3 4 2 2 2 2 1 1 5 3 3 5 1 4 2 3 4 2 0 2 2 1 1 2 4 4 4 4 4 2 3 2 1 3 2 3 2 3 2 0 5 2 5 2 5 1 4 1 2 3 2 4 4 2 3 4 2 3 2 6 0 3 1 3 1 4 1 3 1 4 1 2 2 3 3 1 2 3 4 3 1 2 3 4 2 4 3 5 2 4 2 1 5 2 3 2 4 2 2 0 3 2 3 1 1 2 3 4 1 2 2 1 3 2 2 2 1 4 2 0 2 5 4 4 1 5 2 2 1 4 4 1 0 0 3 4 4 5 2 4 3 3 3 3 3 3 3 2 2 0 3 4 1 2 1 3 2 1 1 2 4 0 2 5 4 1 6 1 4 4 4 2 2 2 6 2 0 5 3 1 4 5 2 1 4 3 3 2 0 5 2 1 1 3 2 3 0 3 3 1 3 4 5 2 4 2 2 4 3 1 1 6 3 2 1 0 3 4 1 2 2 2 4 4 3 5 2 3 3 4 0 4 4 3 2 2 2 2 3 2 2 5 2 2 2 2 3 1 3 4 0 0 2 4 3 2 1 2 2 0 2 1 2 4 2 1 1 4 4 6 2 3 3 1 1 3 2 2 2 4 1 2 4 3 3 2 6 5 2 4 2 6 7 4 3 3 2 0 2 4 4 2 1 3 3 2 1 2 2 1 2 4 2 1 0 1 2 4 4 2 0 1 3 2 2 1 5 1 3 3 3 2 3 1 2 2 5 1 3 3 2 3 3 2 4 3 1 3 2 2 5 7 2 3 2 2 0 4 3 1 5 2 3 2 4 2 3 5 4 2 3 0 1 1 2 2 3 1 1 3 6 4 3 2 2 5 4 5 4 2 1 1 4 6 3 2 2 1 3 4 5 1 0 1 4 0 1 3 2 0 0 2 3 2 2 1 3 2 3 1 2 3 2 4 3 5 0 1 4 0 1 3 1 4 5 6 1 5 2 3 2 3 4 4 5 4 4 5 2 0 4 3 3 1 1 3 6 3 2 1 1 1 4 3 3 4 3 3 4 3 2 2 3 3 5 5 3 3 2 2 3 1 2 1 2 3 1 3 2 4 2 4 2 2 2 1 1 2 1 1 2 2 4 2 3 4 1 2 1 0 2 4 1 2 1 2 3 3 4 2 1 2 1 1 4 4 1 4 2 2 0 1 3 2 3 2 2 2 4 3 3 1 1 1 1 3 1 2 3 0 1 0 3 3 2 4 2 5 2 2 1 3 5 4 2 2 3 2 2 2 4 5 3 1 3 3 0 2 5 2 2 2 3 2 1 2 2 1 2 3 2 3 2 3 3 4 3 4 3 2 3 2 3 2 2 1 3 3 0 3 1 1 3 1 3 3 1 2 3 2 2 1 5 1 0 4 2 2 4 5 4 2 4 2 5 5 2 1 2 1 2 2 3 3 2 2 1 1 0 2 4 4 5 2 1 3 3 2 2 3 1 1 5 1 3 6 2 1 2 2 3 3 2 5 3 3 2 2 4 6 3 2 3 5 4 6 3 5 2 3 1 1 2 2 3 5 3 2 0 4 0 1 4 4 4 2 4 1 5 2 2 3 2 3 4 1 0 4 2 1 3 1 6 3 2 6 2 2 1 1 1 4 3 4 3 3 1 2 1 4 1 2 3 3 1 1 2 2 2 1 4 2 4 5 2 2 3 1 5 4 0 2 1 1 3 1 5 1 3 0 4 2 5 3 0 3 2 2 2 4 2 3 1 3 2 1 4 2 1 3 4 2 5 4 3 3 3 3 3 2 2 2 1 3 2 3 4 2 3 4 2 2 1 4 0 2 2 2 2 4 1 5 2 1 3 2 4 2 4 3 3 3 2 3 2 3 2 3 4 4 4 2 2 2 3 4 0 2 4 2 3 1 2 2 1 4 2 2 2 2 5 4 1 4 1 0 2 2 2 1 1 1 3 3 3 2 4 4 1 2 2 3 2 3 1 2 2 3 2 1 5 1 0 0 3 2 2 5 1 5 5 5 1 2 5 0 3 6 2 2 3 1 2 1 3 2 3 2 3 5 4 5 6 3 6 2 2 2 4 4 4 0 3 3\n",
      "\n"
     ]
    }
   ],
   "source": [
    "s3=get_seqs('seq3.txt')\n",
    "#print(s3)\n",
    "print(consensus(s3))"
   ]
  },
  {
   "cell_type": "code",
   "execution_count": null,
   "id": "e0925197",
   "metadata": {},
   "outputs": [],
   "source": []
  }
 ],
 "metadata": {
  "kernelspec": {
   "display_name": "Python 3",
   "language": "python",
   "name": "python3"
  },
  "language_info": {
   "codemirror_mode": {
    "name": "ipython",
    "version": 3
   },
   "file_extension": ".py",
   "mimetype": "text/x-python",
   "name": "python",
   "nbconvert_exporter": "python",
   "pygments_lexer": "ipython3",
   "version": "3.8.8"
  }
 },
 "nbformat": 4,
 "nbformat_minor": 5
}
