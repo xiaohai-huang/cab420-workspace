{
 "cells": [
  {
   "cell_type": "code",
   "execution_count": 13,
   "metadata": {},
   "outputs": [],
   "source": [
    "import typing"
   ]
  },
  {
   "cell_type": "code",
   "execution_count": 2,
   "metadata": {},
   "outputs": [
    {
     "data": {
      "text/plain": [
       "'\\n(a) {0, 1} x {0, 1}\\n(b) {a, b} x {0, 1}\\n(c) {α, β, γ} x {a, b}\\n'"
      ]
     },
     "execution_count": 2,
     "metadata": {},
     "output_type": "execute_result"
    }
   ],
   "source": [
    "'''\n",
    "(a) {0, 1} x {0, 1}\n",
    "[[\"0\",\"0\"],[\"0\",\"1\"],[\"1\",\"0\"],[\"1\",\"1\"]]\n",
    "\n",
    "\n",
    "(b) {a, b} x {0, 1}\n",
    "[[\"a\",\"0\"],[\"a\",\"1\"],[\"b\",\"0\"],[\"b\",\"1\"]]\n",
    "\n",
    "\n",
    "(c) {α, β, γ} x {a, b}\n",
    "'''"
   ]
  },
  {
   "cell_type": "code",
   "execution_count": 10,
   "metadata": {},
   "outputs": [
    {
     "name": "stdout",
     "output_type": "stream",
     "text": [
      "(0, 0)\n",
      "(0, 1)\n",
      "(1, 0)\n",
      "(1, 1)\n",
      "('a', 0)\n",
      "('a', 1)\n",
      "('b', 0)\n",
      "('b', 1)\n",
      "('β', 'a')\n",
      "('β', 'b')\n",
      "('γ', 'a')\n",
      "('γ', 'b')\n",
      "('α', 'a')\n",
      "('α', 'b')\n"
     ]
    }
   ],
   "source": [
    "import itertools\n",
    "for x in itertools.product(*[{0,1},{0,1}]):\n",
    "    print(x)\n",
    "for x in itertools.product(*[{\"a\",\"b\"},{0,1}]):\n",
    "    print(x)\n",
    "for x in itertools.product(*[{\"α\", \"β\", \"γ\"},{\"a\",\"b\"}]):\n",
    "    print(x)\n",
    "\n",
    "def print_product(sets):\n",
    "    for x in itertools.product(*sets):\n",
    "        print(x)"
   ]
  },
  {
   "cell_type": "code",
   "execution_count": 30,
   "metadata": {},
   "outputs": [],
   "source": [
    "def is_symmetric(R:set):\n",
    "    for a,b in R:\n",
    "        if (b,a) not in R:\n",
    "            return False\n",
    "\n",
    "    return True\n",
    "    \n",
    "def is_anti_symmetric(R:set):\n",
    "    for a,b in R:\n",
    "        if (b,a) in R:\n",
    "            if a != b:\n",
    "                return False\n",
    "\n",
    "    return True\n",
    "    \n",
    "def is_reflexive(A:set, R:set):\n",
    "    for a in A:\n",
    "        if (a,a) not in R:\n",
    "            return False\n",
    "    return True\n",
    "\n",
    "def is_irreflexive(A:set, R:set):\n",
    "    for a in A:\n",
    "        if (a,a) in R:\n",
    "            return False\n",
    "    return True\n",
    "\n",
    "def is_transitive(A:set, R:set):\n",
    "    for a in A:\n",
    "        for b in A:\n",
    "            for c in A:\n",
    "                if (a,b) in R and (b,c) in R:\n",
    "                    if (a,c) not in R:\n",
    "                        return False\n",
    "    return True\n",
    "\n",
    "def eval_relation(S, R):\n",
    "    print(\"symmetric:\",is_symmetric(R))\n",
    "    print(\"anti symmetric:\",is_anti_symmetric(R))\n",
    "    print(\"reflexive:\",is_reflexive(S, R))\n",
    "    print(\"irreflexive:\",is_irreflexive(S, R))\n",
    "    print(\"transitive:\",is_transitive(S, R))"
   ]
  },
  {
   "cell_type": "code",
   "execution_count": 29,
   "metadata": {},
   "outputs": [
    {
     "name": "stdout",
     "output_type": "stream",
     "text": [
      "symmetric: True\n",
      "anti symmetric: False\n",
      "reflexive: True\n",
      "irreflexive: False\n",
      "transitive: True\n"
     ]
    }
   ],
   "source": [
    "R = (1,1),(1,2),(2,1),(2,2),(3,3)\n",
    "S = {1,2,3}\n",
    "print(\"symmetric:\",is_symmetric(R))\n",
    "print(\"anti symmetric:\",is_anti_symmetric(R))\n",
    "print(\"reflexive:\",is_reflexive(S, R))\n",
    "print(\"irreflexive:\",is_irreflexive(S, R))\n",
    "print(\"transitive:\",is_transitive(S, R))\n"
   ]
  },
  {
   "cell_type": "markdown",
   "metadata": {},
   "source": [
    "(a) R = {(0, 0),(0, 1),(1, 1),(1, 2),(0, 2),(2, 2)} on the set {0, 1, 2}"
   ]
  },
  {
   "cell_type": "code",
   "execution_count": 28,
   "metadata": {},
   "outputs": [
    {
     "name": "stdout",
     "output_type": "stream",
     "text": [
      "symmetric: False\n",
      "anti symmetric: True\n",
      "reflexive: True\n",
      "irreflexive: False\n",
      "transitive: True\n"
     ]
    }
   ],
   "source": [
    "R = {(0, 0),(0, 1),(1, 1),(1, 2),(0, 2),(2, 2)}\n",
    "S = {0, 1, 2}\n",
    "print(\"symmetric:\",is_symmetric(R))\n",
    "print(\"anti symmetric:\",is_anti_symmetric(R))\n",
    "print(\"reflexive:\",is_reflexive(S, R))\n",
    "print(\"irreflexive:\",is_irreflexive(S, R))\n",
    "print(\"transitive:\",is_transitive(S, R))\n",
    "\n"
   ]
  },
  {
   "cell_type": "markdown",
   "metadata": {},
   "source": [
    "(b) R = {(0, 0),(2, 2),(1, 1),(3, 3),(0, 1),(1, 0),(2, 3),(3, 2)} on the set {0, 1, 2, 3}\n"
   ]
  },
  {
   "cell_type": "code",
   "execution_count": 31,
   "metadata": {},
   "outputs": [
    {
     "name": "stdout",
     "output_type": "stream",
     "text": [
      "symmetric: True\n",
      "anti symmetric: False\n",
      "reflexive: True\n",
      "irreflexive: False\n",
      "transitive: True\n"
     ]
    }
   ],
   "source": [
    "R = {(0, 0),(2, 2),(1, 1),(3, 3),(0, 1),(1, 0),(2, 3),(3, 2)}\n",
    "S = {0, 1, 2, 3}\n",
    "eval_relation(S,R)"
   ]
  },
  {
   "cell_type": "markdown",
   "metadata": {},
   "source": [
    "(c) R = {(0, 0),(1, 0),(2, 0),(1, 1),(2, 2)} on the set {0, 1, 2}\n"
   ]
  },
  {
   "cell_type": "code",
   "execution_count": 32,
   "metadata": {},
   "outputs": [
    {
     "name": "stdout",
     "output_type": "stream",
     "text": [
      "symmetric: False\n",
      "anti symmetric: True\n",
      "reflexive: True\n",
      "irreflexive: False\n",
      "transitive: True\n"
     ]
    }
   ],
   "source": [
    "R = {(0, 0),(1, 0),(2, 0),(1, 1),(2, 2)}\n",
    "S = {0, 1, 2}\n",
    "eval_relation(S,R)\n"
   ]
  },
  {
   "cell_type": "markdown",
   "metadata": {},
   "source": [
    "(d)\n",
    "1. a=1 b=1 c=1\n",
    "2. a=1 b=2 c=2\n",
    "\n",
    "symmetric: False\n"
   ]
  },
  {
   "cell_type": "markdown",
   "metadata": {},
   "source": [
    "## 4"
   ]
  },
  {
   "cell_type": "code",
   "execution_count": 34,
   "metadata": {},
   "outputs": [
    {
     "data": {
      "text/plain": [
       "{1, 2, 3, 4}"
      ]
     },
     "execution_count": 34,
     "metadata": {},
     "output_type": "execute_result"
    }
   ],
   "source": [
    "R = { (1, 3), (2, 1), (3, 4) }\n",
    "def getSet(R:set):\n",
    "    A = set()\n",
    "    for a,b in R:\n",
    "        A.add(a)\n",
    "        A.add(b)\n",
    "    return A\n",
    "getSet(R)"
   ]
  },
  {
   "cell_type": "markdown",
   "metadata": {},
   "source": [
    "## 5"
   ]
  },
  {
   "cell_type": "code",
   "execution_count": 35,
   "metadata": {},
   "outputs": [],
   "source": [
    "def q5(R:set):\n",
    "    return (is_symmetric(R), is_anti_symmetric(R))"
   ]
  },
  {
   "cell_type": "markdown",
   "metadata": {},
   "source": [
    "## 6"
   ]
  },
  {
   "cell_type": "markdown",
   "metadata": {},
   "source": [
    "# Functions"
   ]
  },
  {
   "cell_type": "code",
   "execution_count": null,
   "metadata": {},
   "outputs": [],
   "source": [
    "def is_function(A:set, R:set):\n",
    "    for a in A:\n",
    "        for b in A:\n",
    "            "
   ]
  }
 ],
 "metadata": {
  "interpreter": {
   "hash": "12328a4b23be1c7cec08b06706c715be0163e3764006085465cbbe8cea75b2e4"
  },
  "kernelspec": {
   "display_name": "Python 3.9.12 ('cab420-env')",
   "language": "python",
   "name": "python3"
  },
  "language_info": {
   "codemirror_mode": {
    "name": "ipython",
    "version": 3
   },
   "file_extension": ".py",
   "mimetype": "text/x-python",
   "name": "python",
   "nbconvert_exporter": "python",
   "pygments_lexer": "ipython3",
   "version": "3.9.12"
  },
  "orig_nbformat": 4
 },
 "nbformat": 4,
 "nbformat_minor": 2
}
