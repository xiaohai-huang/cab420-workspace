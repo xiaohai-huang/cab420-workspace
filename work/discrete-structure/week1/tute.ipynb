{
 "cells": [
  {
   "cell_type": "markdown",
   "metadata": {},
   "source": [
    "- [lecture notes](https://docs.google.com/viewer?url=https://github.com/xiaohai-huang/resources/raw/153d4c58dd52cee78cb3c802368ca45d94b6a3c1/QUT/Discrete-Structure/week1/lecture01.pdf)\n",
    "- [tutorial worksheet](https://docs.google.com/viewer?url=https://github.com/xiaohai-huang/resources/raw/master/QUT/Discrete-Structure/week1/tutorial01.pdf)\n",
    "- [tutorial solution](https://docs.google.com/viewer?url=https://github.com/xiaohai-huang/resources/raw/master/QUT/Discrete-Structure/week1/tutorial01solutions.pdf)"
   ]
  },
  {
   "cell_type": "markdown",
   "metadata": {},
   "source": [
    "## Modular Arithmetic"
   ]
  },
  {
   "cell_type": "code",
   "execution_count": 2,
   "metadata": {},
   "outputs": [
    {
     "name": "stdout",
     "output_type": "stream",
     "text": [
      "2\n",
      "1\n",
      "0\n",
      "2\n"
     ]
    }
   ],
   "source": [
    "print(17 % 5)\n",
    "print(36 % 7)\n",
    "print( (5 + 7) % 3 )\n",
    "print( (5 * 4) % 3 )\n"
   ]
  },
  {
   "cell_type": "markdown",
   "metadata": {},
   "source": [
    "5. Write a short Python function that takes two numbers, a and b, and returns True when a|b."
   ]
  },
  {
   "cell_type": "code",
   "execution_count": 8,
   "metadata": {},
   "outputs": [
    {
     "name": "stdout",
     "output_type": "stream",
     "text": [
      "True\n",
      "True\n",
      "False\n"
     ]
    }
   ],
   "source": [
    "def is_divisible(a, b):\n",
    "    return b % a == 0\n",
    "\n",
    "print(is_divisible(2, 10))\n",
    "print(is_divisible(10, 10))\n",
    "print(is_divisible(10, 11))"
   ]
  },
  {
   "cell_type": "markdown",
   "metadata": {},
   "source": [
    "Write a short Python function that takes three numbers, a, b, c and returns True when a ≡ b\n",
    "(mod c)."
   ]
  },
  {
   "cell_type": "code",
   "execution_count": 11,
   "metadata": {},
   "outputs": [
    {
     "name": "stdout",
     "output_type": "stream",
     "text": [
      "True\n",
      "False\n"
     ]
    }
   ],
   "source": [
    "def is_equivalent(a, b, c):\n",
    "    result_1 = a % c\n",
    "    result_2 = b % c\n",
    "    print(result_1 == result_2)\n",
    "    # return result_1 == result_2\n",
    "\n",
    "is_equivalent(20, 10, 2)\n",
    "is_equivalent(20, 11, 2)\n"
   ]
  },
  {
   "cell_type": "markdown",
   "metadata": {},
   "source": [
    "## Exponents"
   ]
  },
  {
   "cell_type": "markdown",
   "metadata": {},
   "source": [
    "$2^{15} ·2^3$ bits expressed in kilobits"
   ]
  },
  {
   "cell_type": "code",
   "execution_count": 22,
   "metadata": {},
   "outputs": [
    {
     "name": "stdout",
     "output_type": "stream",
     "text": [
      "256.0 kilobits\n"
     ]
    }
   ],
   "source": [
    "total_bits = 2**15 * 2**3\n",
    "bits_per_kilobit = 2 ** 10\n",
    "\n",
    "num_kilobits = total_bits / bits_per_kilobit\n",
    "print(f\"{num_kilobits} kilobits\")"
   ]
  },
  {
   "cell_type": "markdown",
   "metadata": {},
   "source": [
    "Express $8^5$ with base 2"
   ]
  },
  {
   "cell_type": "code",
   "execution_count": 17,
   "metadata": {},
   "outputs": [
    {
     "name": "stdout",
     "output_type": "stream",
     "text": [
      "15.0\n"
     ]
    },
    {
     "data": {
      "text/plain": [
       "True"
      ]
     },
     "execution_count": 17,
     "metadata": {},
     "output_type": "execute_result"
    }
   ],
   "source": [
    "import math\n",
    "print(math.log(8**5, 2))\n",
    "2**15 == 8**5"
   ]
  },
  {
   "cell_type": "markdown",
   "metadata": {},
   "source": [
    "$\\log_2 {\\frac{256}{16}}$"
   ]
  },
  {
   "cell_type": "code",
   "execution_count": 18,
   "metadata": {},
   "outputs": [
    {
     "data": {
      "text/plain": [
       "4.0"
      ]
     },
     "execution_count": 18,
     "metadata": {},
     "output_type": "execute_result"
    }
   ],
   "source": [
    "math.log(256/16, 2)"
   ]
  },
  {
   "cell_type": "markdown",
   "metadata": {},
   "source": [
    "$\\log_2 {8^3}$"
   ]
  },
  {
   "cell_type": "code",
   "execution_count": 19,
   "metadata": {},
   "outputs": [
    {
     "data": {
      "text/plain": [
       "9"
      ]
     },
     "execution_count": 19,
     "metadata": {},
     "output_type": "execute_result"
    }
   ],
   "source": [
    "3 * 3"
   ]
  },
  {
   "cell_type": "markdown",
   "metadata": {},
   "source": [
    "Write a short Python program that takes a number of addresses n and returns the minimum\n",
    "number of bits required to express that many unique addresses. Note that n might not be a power\n",
    "of 2. You may wish to us `math.ceil()`."
   ]
  },
  {
   "cell_type": "code",
   "execution_count": 21,
   "metadata": {},
   "outputs": [
    {
     "data": {
      "text/plain": [
       "13"
      ]
     },
     "execution_count": 21,
     "metadata": {},
     "output_type": "execute_result"
    }
   ],
   "source": [
    "def get_num_bits(num_addresses):\n",
    "    return math.ceil (math.log(num_addresses, 2))\n",
    "\n",
    "get_num_bits(5000)"
   ]
  },
  {
   "cell_type": "code",
   "execution_count": null,
   "metadata": {},
   "outputs": [],
   "source": []
  }
 ],
 "metadata": {
  "interpreter": {
   "hash": "12328a4b23be1c7cec08b06706c715be0163e3764006085465cbbe8cea75b2e4"
  },
  "kernelspec": {
   "display_name": "Python 3.9.5 ('cab420-env')",
   "language": "python",
   "name": "python3"
  },
  "language_info": {
   "codemirror_mode": {
    "name": "ipython",
    "version": 3
   },
   "file_extension": ".py",
   "mimetype": "text/x-python",
   "name": "python",
   "nbconvert_exporter": "python",
   "pygments_lexer": "ipython3",
   "version": "3.9.5"
  },
  "orig_nbformat": 4
 },
 "nbformat": 4,
 "nbformat_minor": 2
}
